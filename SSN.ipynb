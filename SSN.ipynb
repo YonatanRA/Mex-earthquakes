{
 "cells": [
  {
   "cell_type": "code",
   "execution_count": 1,
   "metadata": {},
   "outputs": [],
   "source": [
    "import traceback\n",
    "import urllib3\n",
    "import xmltodict\n",
    "import re\n",
    "import pymongo \n",
    "\n",
    "client=pymongo.MongoClient()\n",
    "db=client.earthquake\n",
    "\n",
    "def getxml():\n",
    "    url = 'http://www.ssn.unam.mx/rss/ultimos-sismos.xml'\n",
    "\n",
    "    http = urllib3.PoolManager()\n",
    "\n",
    "    response = http.request('GET', url)\n",
    "    try:\n",
    "        data = xmltodict.parse(response.data)\n",
    "    except:\n",
    "        print('Failed to parse xml from response {}'.format(traceback.format_exc()))\n",
    "    return data"
   ]
  },
  {
   "cell_type": "code",
   "execution_count": 2,
   "metadata": {},
   "outputs": [
    {
     "data": {
      "text/plain": [
       "collections.OrderedDict"
      ]
     },
     "execution_count": 2,
     "metadata": {},
     "output_type": "execute_result"
    }
   ],
   "source": [
    "type(getxml())"
   ]
  },
  {
   "cell_type": "code",
   "execution_count": 3,
   "metadata": {},
   "outputs": [],
   "source": [
    "d=getxml()"
   ]
  },
  {
   "cell_type": "code",
   "execution_count": 4,
   "metadata": {},
   "outputs": [
    {
     "data": {
      "text/plain": [
       "['@version', '@xmlns:geo', 'channel']"
      ]
     },
     "execution_count": 4,
     "metadata": {},
     "output_type": "execute_result"
    }
   ],
   "source": [
    "list(d['rss'])"
   ]
  },
  {
   "cell_type": "code",
   "execution_count": 5,
   "metadata": {},
   "outputs": [
    {
     "data": {
      "text/plain": [
       "['title', 'link', 'description', 'item']"
      ]
     },
     "execution_count": 5,
     "metadata": {},
     "output_type": "execute_result"
    }
   ],
   "source": [
    "list(d['rss']['channel'])"
   ]
  },
  {
   "cell_type": "code",
   "execution_count": 6,
   "metadata": {},
   "outputs": [
    {
     "data": {
      "text/plain": [
       "OrderedDict([('title', '4.0, 67 km al NORESTE de  GUAMUCHIL, SIN'),\n",
       "             ('description',\n",
       "              '<p>Fecha:2019-10-28 09:08:45 (Hora de M&eacute;xico)<br/>Lat/Lon: 26.04/-107.89<br/>Profundidad: 10.0 km </p>'),\n",
       "             ('link',\n",
       "              'http://www2.ssn.unam.mx:8080/jsp/localizacion-de-sismo.jsp?latitud=26.04&longitud=-107.89&prf=10.0 km&ma=4.0&fecha=2019-10-28&hora=09:08:45&loc=67 km al NORESTE de  GUAMUCHIL, SIN         &evento=1'),\n",
       "             ('geo:lat', '26.04'),\n",
       "             ('geo:long', '-107.89')])"
      ]
     },
     "execution_count": 6,
     "metadata": {},
     "output_type": "execute_result"
    }
   ],
   "source": [
    "d['rss']['channel']['item'][0]"
   ]
  },
  {
   "cell_type": "code",
   "execution_count": 7,
   "metadata": {},
   "outputs": [
    {
     "data": {
      "text/plain": [
       "'4.0, 67 km al NORESTE de  GUAMUCHIL, SIN'"
      ]
     },
     "execution_count": 7,
     "metadata": {},
     "output_type": "execute_result"
    }
   ],
   "source": [
    "d['rss']['channel']['item'][0]['title']"
   ]
  },
  {
   "cell_type": "code",
   "execution_count": 8,
   "metadata": {},
   "outputs": [
    {
     "data": {
      "text/plain": [
       "'26.04'"
      ]
     },
     "execution_count": 8,
     "metadata": {},
     "output_type": "execute_result"
    }
   ],
   "source": [
    "d['rss']['channel']['item'][0]['geo:lat']"
   ]
  },
  {
   "cell_type": "code",
   "execution_count": 9,
   "metadata": {},
   "outputs": [
    {
     "data": {
      "text/plain": [
       "'-107.89'"
      ]
     },
     "execution_count": 9,
     "metadata": {},
     "output_type": "execute_result"
    }
   ],
   "source": [
    "d['rss']['channel']['item'][0]['geo:long']"
   ]
  },
  {
   "cell_type": "code",
   "execution_count": 10,
   "metadata": {},
   "outputs": [
    {
     "data": {
      "text/plain": [
       "OrderedDict([('@version', '2.0'),\n",
       "             ('@xmlns:geo', 'http://www.w3.org/2003/01/geo/wgs84_pos#'),\n",
       "             ('channel',\n",
       "              OrderedDict([('title', 'Últimos sismos registrados por el SSN'),\n",
       "                           ('link', 'http://www.ssn.unam.mx'),\n",
       "                           ('description',\n",
       "                            'Reporte de los últimos sismos en México'),\n",
       "                           ('item',\n",
       "                            [OrderedDict([('title',\n",
       "                                           '4.0, 67 km al NORESTE de  GUAMUCHIL, SIN'),\n",
       "                                          ('description',\n",
       "                                           '<p>Fecha:2019-10-28 09:08:45 (Hora de M&eacute;xico)<br/>Lat/Lon: 26.04/-107.89<br/>Profundidad: 10.0 km </p>'),\n",
       "                                          ('link',\n",
       "                                           'http://www2.ssn.unam.mx:8080/jsp/localizacion-de-sismo.jsp?latitud=26.04&longitud=-107.89&prf=10.0 km&ma=4.0&fecha=2019-10-28&hora=09:08:45&loc=67 km al NORESTE de  GUAMUCHIL, SIN         &evento=1'),\n",
       "                                          ('geo:lat', '26.04'),\n",
       "                                          ('geo:long', '-107.89')]),\n",
       "                             OrderedDict([('title',\n",
       "                                           '4.1, 141 km al SUROESTE de  CD HIDALGO, CHIS'),\n",
       "                                          ('description',\n",
       "                                           '<p>Fecha:2019-10-28 08:15:02 (Hora de M&eacute;xico)<br/>Lat/Lon: 14.13/-93.34<br/>Profundidad: 19.0 km </p>'),\n",
       "                                          ('link',\n",
       "                                           'http://www2.ssn.unam.mx:8080/jsp/localizacion-de-sismo.jsp?latitud=14.13&longitud=-93.34&prf=19.0 km&ma=4.1&fecha=2019-10-28&hora=08:15:02&loc=141 km al SUROESTE de  CD HIDALGO, CHIS        &evento=1'),\n",
       "                                          ('geo:lat', '14.13'),\n",
       "                                          ('geo:long', '-93.34')]),\n",
       "                             OrderedDict([('title',\n",
       "                                           '3.8, 13 km al OESTE de  SAYULA DE ALEMAN, VER'),\n",
       "                                          ('description',\n",
       "                                           '<p>Fecha:2019-10-28 04:59:59 (Hora de M&eacute;xico)<br/>Lat/Lon: 17.9/-95.08<br/>Profundidad: 120.0 km </p>'),\n",
       "                                          ('link',\n",
       "                                           'http://www2.ssn.unam.mx:8080/jsp/localizacion-de-sismo.jsp?latitud=17.9&longitud=-95.08&prf=120.0 km&ma=3.8&fecha=2019-10-28&hora=04:59:59&loc=13 km al OESTE de  SAYULA DE ALEMAN, VER      &evento=1'),\n",
       "                                          ('geo:lat', '17.9'),\n",
       "                                          ('geo:long', '-95.08')]),\n",
       "                             OrderedDict([('title',\n",
       "                                           '3.4, 12 km al SUROESTE de  SAN MARCOS, GRO'),\n",
       "                                          ('description',\n",
       "                                           '<p>Fecha:2019-10-28 04:55:15 (Hora de M&eacute;xico)<br/>Lat/Lon: 16.69/-99.42<br/>Profundidad: 7.0 km </p>'),\n",
       "                                          ('link',\n",
       "                                           'http://www2.ssn.unam.mx:8080/jsp/localizacion-de-sismo.jsp?latitud=16.69&longitud=-99.42&prf=7.0 km&ma=3.4&fecha=2019-10-28&hora=04:55:15&loc=12 km al SUROESTE de  SAN MARCOS, GRO         &evento=1'),\n",
       "                                          ('geo:lat', '16.69'),\n",
       "                                          ('geo:long', '-99.42')]),\n",
       "                             OrderedDict([('title',\n",
       "                                           '3.3, 21 km al OESTE de  PINOTEPA NACIONAL, OAX'),\n",
       "                                          ('description',\n",
       "                                           '<p>Fecha:2019-10-28 04:34:54 (Hora de M&eacute;xico)<br/>Lat/Lon: 16.3/-98.25<br/>Profundidad: 13.0 km </p>'),\n",
       "                                          ('link',\n",
       "                                           'http://www2.ssn.unam.mx:8080/jsp/localizacion-de-sismo.jsp?latitud=16.3&longitud=-98.25&prf=13.0 km&ma=3.3&fecha=2019-10-28&hora=04:34:54&loc=21 km al OESTE de  PINOTEPA NACIONAL, OAX  &evento=1'),\n",
       "                                          ('geo:lat', '16.3'),\n",
       "                                          ('geo:long', '-98.25')]),\n",
       "                             OrderedDict([('title',\n",
       "                                           '3.6, 25 km al NORESTE de  PIJIJIAPAN, CHIS'),\n",
       "                                          ('description',\n",
       "                                           '<p>Fecha:2019-10-28 03:56:44 (Hora de M&eacute;xico)<br/>Lat/Lon: 15.82/-93.03<br/>Profundidad: 137.0 km </p>'),\n",
       "                                          ('link',\n",
       "                                           'http://www2.ssn.unam.mx:8080/jsp/localizacion-de-sismo.jsp?latitud=15.82&longitud=-93.03&prf=137.0 km&ma=3.6&fecha=2019-10-28&hora=03:56:44&loc=25 km al NORESTE de  PIJIJIAPAN, CHIS  &evento=1'),\n",
       "                                          ('geo:lat', '15.82'),\n",
       "                                          ('geo:long', '-93.03')]),\n",
       "                             OrderedDict([('title',\n",
       "                                           '3.6, 108 km al SUROESTE de  PINOTEPA NACIONAL, OAX'),\n",
       "                                          ('description',\n",
       "                                           '<p>Fecha:2019-10-28 03:30:55 (Hora de M&eacute;xico)<br/>Lat/Lon: 15.55/-98.64<br/>Profundidad: 12.0 km </p>'),\n",
       "                                          ('link',\n",
       "                                           'http://www2.ssn.unam.mx:8080/jsp/localizacion-de-sismo.jsp?latitud=15.55&longitud=-98.64&prf=12.0 km&ma=3.6&fecha=2019-10-28&hora=03:30:55&loc=108 km al SUROESTE de  PINOTEPA NACIONAL, OAX  &evento=1'),\n",
       "                                          ('geo:lat', '15.55'),\n",
       "                                          ('geo:long', '-98.64')]),\n",
       "                             OrderedDict([('title',\n",
       "                                           '3.7, 23 km al NORESTE de  MAPASTEPEC, CHIS'),\n",
       "                                          ('description',\n",
       "                                           '<p>Fecha:2019-10-28 03:28:58 (Hora de M&eacute;xico)<br/>Lat/Lon: 15.63/-92.8<br/>Profundidad: 144.0 km </p>'),\n",
       "                                          ('link',\n",
       "                                           'http://www2.ssn.unam.mx:8080/jsp/localizacion-de-sismo.jsp?latitud=15.63&longitud=-92.8&prf=144.0 km&ma=3.7&fecha=2019-10-28&hora=03:28:58&loc=23 km al NORESTE de  MAPASTEPEC, CHIS        &evento=1'),\n",
       "                                          ('geo:lat', '15.63'),\n",
       "                                          ('geo:long', '-92.8')]),\n",
       "                             OrderedDict([('title',\n",
       "                                           '3.7, 86 km al NORESTE de  SGO PAPASQUIARO, DGO'),\n",
       "                                          ('description',\n",
       "                                           '<p>Fecha:2019-10-28 03:21:22 (Hora de M&eacute;xico)<br/>Lat/Lon: 25.61/-104.84<br/>Profundidad: 17.0 km </p>'),\n",
       "                                          ('link',\n",
       "                                           'http://www2.ssn.unam.mx:8080/jsp/localizacion-de-sismo.jsp?latitud=25.61&longitud=-104.84&prf=17.0 km&ma=3.7&fecha=2019-10-28&hora=03:21:22&loc=86 km al NORESTE de  SGO PAPASQUIARO, DGO     &evento=1'),\n",
       "                                          ('geo:lat', '25.61'),\n",
       "                                          ('geo:long', '-104.84')]),\n",
       "                             OrderedDict([('title',\n",
       "                                           '3.6, 35 km al NORESTE de  GUASAVE, SIN'),\n",
       "                                          ('description',\n",
       "                                           '<p>Fecha:2019-10-28 03:11:36 (Hora de M&eacute;xico)<br/>Lat/Lon: 25.84/-108.27<br/>Profundidad: 19.0 km </p>'),\n",
       "                                          ('link',\n",
       "                                           'http://www2.ssn.unam.mx:8080/jsp/localizacion-de-sismo.jsp?latitud=25.84&longitud=-108.27&prf=19.0 km&ma=3.6&fecha=2019-10-28&hora=03:11:36&loc=35 km al NORESTE de  GUASAVE, SIN         &evento=1'),\n",
       "                                          ('geo:lat', '25.84'),\n",
       "                                          ('geo:long', '-108.27')]),\n",
       "                             OrderedDict([('title',\n",
       "                                           '3.4, 20 km al SURESTE de  SAN MARCOS, GRO'),\n",
       "                                          ('description',\n",
       "                                           '<p>Fecha:2019-10-28 02:17:08 (Hora de M&eacute;xico)<br/>Lat/Lon: 16.68/-99.25<br/>Profundidad: 19.0 km </p>'),\n",
       "                                          ('link',\n",
       "                                           'http://www2.ssn.unam.mx:8080/jsp/localizacion-de-sismo.jsp?latitud=16.68&longitud=-99.25&prf=19.0 km&ma=3.4&fecha=2019-10-28&hora=02:17:08&loc=20 km al SURESTE de  SAN MARCOS, GRO         &evento=1'),\n",
       "                                          ('geo:lat', '16.68'),\n",
       "                                          ('geo:long', '-99.25')]),\n",
       "                             OrderedDict([('title',\n",
       "                                           '3.5, 62 km al NOROESTE de  CD IXTEPEC, OAX'),\n",
       "                                          ('description',\n",
       "                                           '<p>Fecha:2019-10-28 02:06:36 (Hora de M&eacute;xico)<br/>Lat/Lon: 16.72/-95.66<br/>Profundidad: 12.0 km </p>'),\n",
       "                                          ('link',\n",
       "                                           'http://www2.ssn.unam.mx:8080/jsp/localizacion-de-sismo.jsp?latitud=16.72&longitud=-95.66&prf=12.0 km&ma=3.5&fecha=2019-10-28&hora=02:06:36&loc=62 km al NOROESTE de  CD IXTEPEC, OAX         &evento=1'),\n",
       "                                          ('geo:lat', '16.72'),\n",
       "                                          ('geo:long', '-95.66')]),\n",
       "                             OrderedDict([('title',\n",
       "                                           '3.5, 10 km al SUROESTE de  PINOTEPA NACIONAL, OAX'),\n",
       "                                          ('description',\n",
       "                                           '<p>Fecha:2019-10-28 02:06:15 (Hora de M&eacute;xico)<br/>Lat/Lon: 16.29/-98.13<br/>Profundidad: 13.0 km </p>'),\n",
       "                                          ('link',\n",
       "                                           'http://www2.ssn.unam.mx:8080/jsp/localizacion-de-sismo.jsp?latitud=16.29&longitud=-98.13&prf=13.0 km&ma=3.5&fecha=2019-10-28&hora=02:06:15&loc=10 km al SUROESTE de  PINOTEPA NACIONAL, OAX  &evento=1'),\n",
       "                                          ('geo:lat', '16.29'),\n",
       "                                          ('geo:long', '-98.13')]),\n",
       "                             OrderedDict([('title',\n",
       "                                           '3.2, 40 km al SUROESTE de  PINOTEPA NACIONAL, OAX'),\n",
       "                                          ('description',\n",
       "                                           '<p>Fecha:2019-10-28 02:05:38 (Hora de M&eacute;xico)<br/>Lat/Lon: 16.0/-98.18<br/>Profundidad: 5.0 km </p>'),\n",
       "                                          ('link',\n",
       "                                           'http://www2.ssn.unam.mx:8080/jsp/localizacion-de-sismo.jsp?latitud=16.0&longitud=-98.18&prf=5.0 km&ma=3.2&fecha=2019-10-28&hora=02:05:38&loc=40 km al SUROESTE de  PINOTEPA NACIONAL, OAX  &evento=1'),\n",
       "                                          ('geo:lat', '16.0'),\n",
       "                                          ('geo:long', '-98.18')]),\n",
       "                             OrderedDict([('title',\n",
       "                                           '3.8, 26 km al NORESTE de  RIO GRANDE, OAX'),\n",
       "                                          ('description',\n",
       "                                           '<p>Fecha:2019-10-28 01:52:54 (Hora de M&eacute;xico)<br/>Lat/Lon: 16.12/-97.21<br/>Profundidad: 18.0 km </p>'),\n",
       "                                          ('link',\n",
       "                                           'http://www2.ssn.unam.mx:8080/jsp/localizacion-de-sismo.jsp?latitud=16.12&longitud=-97.21&prf=18.0 km&ma=3.8&fecha=2019-10-28&hora=01:52:54&loc=26 km al NORESTE de  RIO GRANDE, OAX         &evento=1'),\n",
       "                                          ('geo:lat', '16.12'),\n",
       "                                          ('geo:long', '-97.21')])])]))])"
      ]
     },
     "execution_count": 10,
     "metadata": {},
     "output_type": "execute_result"
    }
   ],
   "source": [
    "d['rss']"
   ]
  },
  {
   "cell_type": "code",
   "execution_count": 11,
   "metadata": {},
   "outputs": [
    {
     "name": "stdout",
     "output_type": "stream",
     "text": [
      "<p>Fecha:2019-10-28 09:08:45 (Hora de M&eacute;xico)<br/>Lat/Lon: 26.04/-107.89<br/>Profundidad: 10.0 km </p>\n",
      "<p>Fecha:2019-10-28 08:15:02 (Hora de M&eacute;xico)<br/>Lat/Lon: 14.13/-93.34<br/>Profundidad: 19.0 km </p>\n",
      "<p>Fecha:2019-10-28 04:59:59 (Hora de M&eacute;xico)<br/>Lat/Lon: 17.9/-95.08<br/>Profundidad: 120.0 km </p>\n",
      "<p>Fecha:2019-10-28 04:55:15 (Hora de M&eacute;xico)<br/>Lat/Lon: 16.69/-99.42<br/>Profundidad: 7.0 km </p>\n",
      "<p>Fecha:2019-10-28 04:34:54 (Hora de M&eacute;xico)<br/>Lat/Lon: 16.3/-98.25<br/>Profundidad: 13.0 km </p>\n",
      "<p>Fecha:2019-10-28 03:56:44 (Hora de M&eacute;xico)<br/>Lat/Lon: 15.82/-93.03<br/>Profundidad: 137.0 km </p>\n",
      "<p>Fecha:2019-10-28 03:30:55 (Hora de M&eacute;xico)<br/>Lat/Lon: 15.55/-98.64<br/>Profundidad: 12.0 km </p>\n",
      "<p>Fecha:2019-10-28 03:28:58 (Hora de M&eacute;xico)<br/>Lat/Lon: 15.63/-92.8<br/>Profundidad: 144.0 km </p>\n",
      "<p>Fecha:2019-10-28 03:21:22 (Hora de M&eacute;xico)<br/>Lat/Lon: 25.61/-104.84<br/>Profundidad: 17.0 km </p>\n",
      "<p>Fecha:2019-10-28 03:11:36 (Hora de M&eacute;xico)<br/>Lat/Lon: 25.84/-108.27<br/>Profundidad: 19.0 km </p>\n",
      "<p>Fecha:2019-10-28 02:17:08 (Hora de M&eacute;xico)<br/>Lat/Lon: 16.68/-99.25<br/>Profundidad: 19.0 km </p>\n",
      "<p>Fecha:2019-10-28 02:06:36 (Hora de M&eacute;xico)<br/>Lat/Lon: 16.72/-95.66<br/>Profundidad: 12.0 km </p>\n",
      "<p>Fecha:2019-10-28 02:06:15 (Hora de M&eacute;xico)<br/>Lat/Lon: 16.29/-98.13<br/>Profundidad: 13.0 km </p>\n",
      "<p>Fecha:2019-10-28 02:05:38 (Hora de M&eacute;xico)<br/>Lat/Lon: 16.0/-98.18<br/>Profundidad: 5.0 km </p>\n",
      "<p>Fecha:2019-10-28 01:52:54 (Hora de M&eacute;xico)<br/>Lat/Lon: 16.12/-97.21<br/>Profundidad: 18.0 km </p>\n"
     ]
    }
   ],
   "source": [
    "for i in range(len(d['rss']['channel']['item'])):\n",
    "    print (d['rss']['channel']['item'][i]['description'])"
   ]
  },
  {
   "cell_type": "code",
   "execution_count": 12,
   "metadata": {},
   "outputs": [
    {
     "data": {
      "text/plain": [
       "'<p>Fecha:2019-10-28 09:08:45 (Hora de M&eacute;xico)<br/>Lat/Lon: 26.04/-107.89<br/>Profundidad: 10.0 km </p>'"
      ]
     },
     "execution_count": 12,
     "metadata": {},
     "output_type": "execute_result"
    }
   ],
   "source": [
    "d['rss']['channel']['item'][0]['description']"
   ]
  },
  {
   "cell_type": "code",
   "execution_count": 13,
   "metadata": {},
   "outputs": [],
   "source": [
    "data_get=d['rss']['channel']['item'][0]['description'].split('>')[1:4]"
   ]
  },
  {
   "cell_type": "code",
   "execution_count": 14,
   "metadata": {},
   "outputs": [
    {
     "data": {
      "text/plain": [
       "['Fecha:2019-10-28 09:08:45 (Hora de M&eacute;xico)<br/',\n",
       " 'Lat/Lon: 26.04/-107.89<br/',\n",
       " 'Profundidad: 10.0 km </p']"
      ]
     },
     "execution_count": 14,
     "metadata": {},
     "output_type": "execute_result"
    }
   ],
   "source": [
    "data_get"
   ]
  },
  {
   "cell_type": "code",
   "execution_count": 15,
   "metadata": {},
   "outputs": [],
   "source": [
    "fecha=re.findall('\\d+-\\d+-\\d+', data_get[0])[0]"
   ]
  },
  {
   "cell_type": "code",
   "execution_count": 16,
   "metadata": {},
   "outputs": [],
   "source": [
    "hora=re.findall('\\d+:\\d+:\\d+', data_get[0])[0]"
   ]
  },
  {
   "cell_type": "code",
   "execution_count": 17,
   "metadata": {},
   "outputs": [],
   "source": [
    "lat=re.findall('-?\\d+.\\d+', data_get[1])[0]"
   ]
  },
  {
   "cell_type": "code",
   "execution_count": 18,
   "metadata": {},
   "outputs": [],
   "source": [
    "lon=re.findall('-?\\d+.\\d+', data_get[1])[1]"
   ]
  },
  {
   "cell_type": "code",
   "execution_count": 19,
   "metadata": {},
   "outputs": [],
   "source": [
    "prof=re.findall('\\d+.\\d+ \\w+', data_get[2])[0]"
   ]
  },
  {
   "cell_type": "code",
   "execution_count": 20,
   "metadata": {},
   "outputs": [],
   "source": [
    "data={'Fecha':fecha, 'Hora':hora, 'Latitud':float(lat), 'Longitud':float(lon), 'Profundidad':prof}"
   ]
  },
  {
   "cell_type": "code",
   "execution_count": 21,
   "metadata": {},
   "outputs": [
    {
     "data": {
      "text/plain": [
       "{'Fecha': '2019-10-28',\n",
       " 'Hora': '09:08:45',\n",
       " 'Latitud': 26.04,\n",
       " 'Longitud': -107.89,\n",
       " 'Profundidad': '10.0 km'}"
      ]
     },
     "execution_count": 21,
     "metadata": {},
     "output_type": "execute_result"
    }
   ],
   "source": [
    "data"
   ]
  },
  {
   "cell_type": "code",
   "execution_count": 22,
   "metadata": {},
   "outputs": [
    {
     "name": "stderr",
     "output_type": "stream",
     "text": [
      "/usr/local/Cellar/ipython/7.8.0/libexec/vendor/lib/python3.7/site-packages/ipykernel_launcher.py:14: DeprecationWarning: update is deprecated. Use replace_one, update_one or update_many instead.\n",
      "  \n"
     ]
    }
   ],
   "source": [
    "todo=list(db.ssnUnam.find())\n",
    "#print (todo)\n",
    "for i in range(len(d['rss']['channel']['item'])):\n",
    "    data_get=d['rss']['channel']['item'][i]['description'].split('>')[1:4]\n",
    "    fecha=re.findall('\\d+-\\d+-\\d+', data_get[0])[0]\n",
    "    hora=re.findall('\\d+:\\d+:\\d+', data_get[0])[0]\n",
    "    lat=re.findall('-?\\d+.\\d+', data_get[1])[0]\n",
    "    lon=re.findall('-?\\d+.\\d+', data_get[1])[1]\n",
    "    prof=re.findall('\\d+.\\d+ \\w+', data_get[2])[0]\n",
    "    data={'Fecha':fecha, 'Hora':hora,\n",
    "          'Latitud':float(lat), 'Longitud':float(lon),\n",
    "          'Profundidad':prof}\n",
    "    \n",
    "    db.ssnUnam.update(data, data, upsert=True)"
   ]
  },
  {
   "cell_type": "code",
   "execution_count": 25,
   "metadata": {},
   "outputs": [
    {
     "data": {
      "text/plain": [
       "'4.0'"
      ]
     },
     "execution_count": 25,
     "metadata": {},
     "output_type": "execute_result"
    }
   ],
   "source": [
    "d['rss']['channel']['item'][0]['title'].split(',')[0]"
   ]
  },
  {
   "cell_type": "code",
   "execution_count": null,
   "metadata": {},
   "outputs": [],
   "source": []
  }
 ],
 "metadata": {
  "kernelspec": {
   "display_name": "Python 3",
   "language": "python",
   "name": "python3"
  },
  "language_info": {
   "codemirror_mode": {
    "name": "ipython",
    "version": 3
   },
   "file_extension": ".py",
   "mimetype": "text/x-python",
   "name": "python",
   "nbconvert_exporter": "python",
   "pygments_lexer": "ipython3",
   "version": "3.7.4"
  }
 },
 "nbformat": 4,
 "nbformat_minor": 2
}
