{
 "cells": [
  {
   "cell_type": "markdown",
   "metadata": {},
   "source": [
    "# Mapa Folium HeatMap"
   ]
  },
  {
   "cell_type": "code",
   "execution_count": 1,
   "metadata": {},
   "outputs": [
    {
     "data": {
      "text/html": [
       "<div>\n",
       "<style scoped>\n",
       "    .dataframe tbody tr th:only-of-type {\n",
       "        vertical-align: middle;\n",
       "    }\n",
       "\n",
       "    .dataframe tbody tr th {\n",
       "        vertical-align: top;\n",
       "    }\n",
       "\n",
       "    .dataframe thead th {\n",
       "        text-align: right;\n",
       "    }\n",
       "</style>\n",
       "<table border=\"1\" class=\"dataframe\">\n",
       "  <thead>\n",
       "    <tr style=\"text-align: right;\">\n",
       "      <th></th>\n",
       "      <th>_id</th>\n",
       "      <th>Fecha</th>\n",
       "      <th>Hora</th>\n",
       "      <th>Latitud</th>\n",
       "      <th>Longitud</th>\n",
       "      <th>Profundidad</th>\n",
       "      <th>Intensidad</th>\n",
       "    </tr>\n",
       "  </thead>\n",
       "  <tbody>\n",
       "    <tr>\n",
       "      <th>0</th>\n",
       "      <td>ObjectId(\"5db7805d3771a8f231530f47\")</td>\n",
       "      <td>2019-10-28</td>\n",
       "      <td>09:08:45</td>\n",
       "      <td>26.04</td>\n",
       "      <td>-107.89</td>\n",
       "      <td>10.0 km</td>\n",
       "      <td>4.0</td>\n",
       "    </tr>\n",
       "    <tr>\n",
       "      <th>1</th>\n",
       "      <td>ObjectId(\"5db7805d3771a8f231530f49\")</td>\n",
       "      <td>2019-10-28</td>\n",
       "      <td>08:15:02</td>\n",
       "      <td>14.13</td>\n",
       "      <td>-93.34</td>\n",
       "      <td>19.0 km</td>\n",
       "      <td>4.1</td>\n",
       "    </tr>\n",
       "    <tr>\n",
       "      <th>2</th>\n",
       "      <td>ObjectId(\"5db7805d3771a8f231530f4b\")</td>\n",
       "      <td>2019-10-28</td>\n",
       "      <td>04:59:59</td>\n",
       "      <td>17.90</td>\n",
       "      <td>-95.08</td>\n",
       "      <td>120.0 km</td>\n",
       "      <td>3.8</td>\n",
       "    </tr>\n",
       "    <tr>\n",
       "      <th>3</th>\n",
       "      <td>ObjectId(\"5db7805d3771a8f231530f4d\")</td>\n",
       "      <td>2019-10-28</td>\n",
       "      <td>04:55:15</td>\n",
       "      <td>16.69</td>\n",
       "      <td>-99.42</td>\n",
       "      <td>7.0 km</td>\n",
       "      <td>3.4</td>\n",
       "    </tr>\n",
       "    <tr>\n",
       "      <th>4</th>\n",
       "      <td>ObjectId(\"5db7805d3771a8f231530f4f\")</td>\n",
       "      <td>2019-10-28</td>\n",
       "      <td>04:34:54</td>\n",
       "      <td>16.30</td>\n",
       "      <td>-98.25</td>\n",
       "      <td>13.0 km</td>\n",
       "      <td>3.3</td>\n",
       "    </tr>\n",
       "  </tbody>\n",
       "</table>\n",
       "</div>"
      ],
      "text/plain": [
       "                                    _id       Fecha      Hora  Latitud  \\\n",
       "0  ObjectId(\"5db7805d3771a8f231530f47\")  2019-10-28  09:08:45    26.04   \n",
       "1  ObjectId(\"5db7805d3771a8f231530f49\")  2019-10-28  08:15:02    14.13   \n",
       "2  ObjectId(\"5db7805d3771a8f231530f4b\")  2019-10-28  04:59:59    17.90   \n",
       "3  ObjectId(\"5db7805d3771a8f231530f4d\")  2019-10-28  04:55:15    16.69   \n",
       "4  ObjectId(\"5db7805d3771a8f231530f4f\")  2019-10-28  04:34:54    16.30   \n",
       "\n",
       "   Longitud Profundidad  Intensidad  \n",
       "0   -107.89     10.0 km         4.0  \n",
       "1    -93.34     19.0 km         4.1  \n",
       "2    -95.08    120.0 km         3.8  \n",
       "3    -99.42      7.0 km         3.4  \n",
       "4    -98.25     13.0 km         3.3  "
      ]
     },
     "execution_count": 1,
     "metadata": {},
     "output_type": "execute_result"
    }
   ],
   "source": [
    "# heatmap con movimiento\n",
    "import folium\n",
    "from folium.plugins import HeatMapWithTime as HMWT\n",
    "from folium.plugins import HeatMap as HM\n",
    "import pandas as pd\n",
    "\n",
    "\n",
    "df=pd.read_csv('mex_earthquakes.csv')\n",
    "\n",
    "df.head()"
   ]
  },
  {
   "cell_type": "code",
   "execution_count": 2,
   "metadata": {},
   "outputs": [
    {
     "data": {
      "text/html": [
       "<div>\n",
       "<style scoped>\n",
       "    .dataframe tbody tr th:only-of-type {\n",
       "        vertical-align: middle;\n",
       "    }\n",
       "\n",
       "    .dataframe tbody tr th {\n",
       "        vertical-align: top;\n",
       "    }\n",
       "\n",
       "    .dataframe thead th {\n",
       "        text-align: right;\n",
       "    }\n",
       "</style>\n",
       "<table border=\"1\" class=\"dataframe\">\n",
       "  <thead>\n",
       "    <tr style=\"text-align: right;\">\n",
       "      <th></th>\n",
       "      <th>_id</th>\n",
       "      <th>Fecha</th>\n",
       "      <th>Hora</th>\n",
       "      <th>Latitud</th>\n",
       "      <th>Longitud</th>\n",
       "      <th>Profundidad</th>\n",
       "      <th>Intensidad</th>\n",
       "      <th>date_time</th>\n",
       "    </tr>\n",
       "  </thead>\n",
       "  <tbody>\n",
       "    <tr>\n",
       "      <th>0</th>\n",
       "      <td>ObjectId(\"5db7805d3771a8f231530f47\")</td>\n",
       "      <td>2019-10-28</td>\n",
       "      <td>09:08:45</td>\n",
       "      <td>26.04</td>\n",
       "      <td>-107.89</td>\n",
       "      <td>10.0 km</td>\n",
       "      <td>4.0</td>\n",
       "      <td>2019-10-28 09:08:45</td>\n",
       "    </tr>\n",
       "    <tr>\n",
       "      <th>1</th>\n",
       "      <td>ObjectId(\"5db7805d3771a8f231530f49\")</td>\n",
       "      <td>2019-10-28</td>\n",
       "      <td>08:15:02</td>\n",
       "      <td>14.13</td>\n",
       "      <td>-93.34</td>\n",
       "      <td>19.0 km</td>\n",
       "      <td>4.1</td>\n",
       "      <td>2019-10-28 08:15:02</td>\n",
       "    </tr>\n",
       "    <tr>\n",
       "      <th>2</th>\n",
       "      <td>ObjectId(\"5db7805d3771a8f231530f4b\")</td>\n",
       "      <td>2019-10-28</td>\n",
       "      <td>04:59:59</td>\n",
       "      <td>17.90</td>\n",
       "      <td>-95.08</td>\n",
       "      <td>120.0 km</td>\n",
       "      <td>3.8</td>\n",
       "      <td>2019-10-28 04:59:59</td>\n",
       "    </tr>\n",
       "    <tr>\n",
       "      <th>3</th>\n",
       "      <td>ObjectId(\"5db7805d3771a8f231530f4d\")</td>\n",
       "      <td>2019-10-28</td>\n",
       "      <td>04:55:15</td>\n",
       "      <td>16.69</td>\n",
       "      <td>-99.42</td>\n",
       "      <td>7.0 km</td>\n",
       "      <td>3.4</td>\n",
       "      <td>2019-10-28 04:55:15</td>\n",
       "    </tr>\n",
       "    <tr>\n",
       "      <th>4</th>\n",
       "      <td>ObjectId(\"5db7805d3771a8f231530f4f\")</td>\n",
       "      <td>2019-10-28</td>\n",
       "      <td>04:34:54</td>\n",
       "      <td>16.30</td>\n",
       "      <td>-98.25</td>\n",
       "      <td>13.0 km</td>\n",
       "      <td>3.3</td>\n",
       "      <td>2019-10-28 04:34:54</td>\n",
       "    </tr>\n",
       "  </tbody>\n",
       "</table>\n",
       "</div>"
      ],
      "text/plain": [
       "                                    _id       Fecha      Hora  Latitud  \\\n",
       "0  ObjectId(\"5db7805d3771a8f231530f47\")  2019-10-28  09:08:45    26.04   \n",
       "1  ObjectId(\"5db7805d3771a8f231530f49\")  2019-10-28  08:15:02    14.13   \n",
       "2  ObjectId(\"5db7805d3771a8f231530f4b\")  2019-10-28  04:59:59    17.90   \n",
       "3  ObjectId(\"5db7805d3771a8f231530f4d\")  2019-10-28  04:55:15    16.69   \n",
       "4  ObjectId(\"5db7805d3771a8f231530f4f\")  2019-10-28  04:34:54    16.30   \n",
       "\n",
       "   Longitud Profundidad  Intensidad            date_time  \n",
       "0   -107.89     10.0 km         4.0  2019-10-28 09:08:45  \n",
       "1    -93.34     19.0 km         4.1  2019-10-28 08:15:02  \n",
       "2    -95.08    120.0 km         3.8  2019-10-28 04:59:59  \n",
       "3    -99.42      7.0 km         3.4  2019-10-28 04:55:15  \n",
       "4    -98.25     13.0 km         3.3  2019-10-28 04:34:54  "
      ]
     },
     "execution_count": 2,
     "metadata": {},
     "output_type": "execute_result"
    }
   ],
   "source": [
    "df['date_time']=df.Fecha+' '+df.Hora\n",
    "\n",
    "df.head()"
   ]
  },
  {
   "cell_type": "code",
   "execution_count": 3,
   "metadata": {},
   "outputs": [],
   "source": [
    "# transformar segun datos de tiempo\n",
    "\n",
    "df.date_time=pd.to_datetime(df.date_time, format='%Y-%m-%d %H:%M:%S')\n",
    "\n",
    "df['mes']=df.date_time.apply(lambda x: x.month)\n",
    "\n",
    "df['semana']=df.date_time.apply(lambda x: x.week)\n",
    "\n",
    "df['dia']=df.date_time.apply(lambda x: x.day)\n",
    "\n",
    "df['hora']=df.date_time.apply(lambda x: x.hour)"
   ]
  },
  {
   "cell_type": "code",
   "execution_count": 4,
   "metadata": {},
   "outputs": [],
   "source": [
    "# inicializa el mapa\n",
    "\n",
    "def mapa_base(default_location=[23.634501, -102.552784], default_zoom_start=4.6):\n",
    "    \n",
    "    \n",
    "    return folium.Map(location=default_location, \n",
    "                      control_scale=True, \n",
    "                      zoom_start=default_zoom_start)\n",
    "    "
   ]
  },
  {
   "cell_type": "code",
   "execution_count": 5,
   "metadata": {},
   "outputs": [
    {
     "data": {
      "text/html": [
       "<div style=\"width:100%;\"><div style=\"position:relative;width:100%;height:0;padding-bottom:60%;\"><span style=\"color:#565656\">Make this Notebook Trusted to load map: File -> Trust Notebook</span><iframe src=\"about:blank\" style=\"position:absolute;width:100%;height:100%;left:0;top:0;border:none !important;\" data-html=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 onload=\"this.contentDocument.open();this.contentDocument.write(atob(this.getAttribute('data-html')));this.contentDocument.close();\" allowfullscreen webkitallowfullscreen mozallowfullscreen></iframe></div></div>"
      ],
      "text/plain": [
       "<folium.folium.Map at 0x7f5c801361f0>"
      ]
     },
     "execution_count": 5,
     "metadata": {},
     "output_type": "execute_result"
    }
   ],
   "source": [
    "mapa_base()"
   ]
  },
  {
   "cell_type": "code",
   "execution_count": 6,
   "metadata": {},
   "outputs": [],
   "source": [
    "# se copia df y mes>4\n",
    "\n",
    "df_copy = df[df.mes>4].copy()\n",
    "df_copy['count'] = 1"
   ]
  },
  {
   "cell_type": "code",
   "execution_count": 7,
   "metadata": {},
   "outputs": [
    {
     "data": {
      "text/html": [
       "<div>\n",
       "<style scoped>\n",
       "    .dataframe tbody tr th:only-of-type {\n",
       "        vertical-align: middle;\n",
       "    }\n",
       "\n",
       "    .dataframe tbody tr th {\n",
       "        vertical-align: top;\n",
       "    }\n",
       "\n",
       "    .dataframe thead th {\n",
       "        text-align: right;\n",
       "    }\n",
       "</style>\n",
       "<table border=\"1\" class=\"dataframe\">\n",
       "  <thead>\n",
       "    <tr style=\"text-align: right;\">\n",
       "      <th></th>\n",
       "      <th></th>\n",
       "      <th>count</th>\n",
       "    </tr>\n",
       "    <tr>\n",
       "      <th>Latitud</th>\n",
       "      <th>Longitud</th>\n",
       "      <th></th>\n",
       "    </tr>\n",
       "  </thead>\n",
       "  <tbody>\n",
       "    <tr>\n",
       "      <th>30.82</th>\n",
       "      <th>-114.22</th>\n",
       "      <td>4</td>\n",
       "    </tr>\n",
       "    <tr>\n",
       "      <th>16.26</th>\n",
       "      <th>-98.10</th>\n",
       "      <td>3</td>\n",
       "    </tr>\n",
       "    <tr>\n",
       "      <th>15.39</th>\n",
       "      <th>-94.75</th>\n",
       "      <td>2</td>\n",
       "    </tr>\n",
       "    <tr>\n",
       "      <th>19.22</th>\n",
       "      <th>-104.98</th>\n",
       "      <td>2</td>\n",
       "    </tr>\n",
       "    <tr>\n",
       "      <th>16.23</th>\n",
       "      <th>-98.07</th>\n",
       "      <td>2</td>\n",
       "    </tr>\n",
       "    <tr>\n",
       "      <th rowspan=\"2\" valign=\"top\">16.31</th>\n",
       "      <th>-98.25</th>\n",
       "      <td>2</td>\n",
       "    </tr>\n",
       "    <tr>\n",
       "      <th>-98.22</th>\n",
       "      <td>2</td>\n",
       "    </tr>\n",
       "    <tr>\n",
       "      <th>18.84</th>\n",
       "      <th>-98.83</th>\n",
       "      <td>2</td>\n",
       "    </tr>\n",
       "    <tr>\n",
       "      <th>16.21</th>\n",
       "      <th>-98.11</th>\n",
       "      <td>2</td>\n",
       "    </tr>\n",
       "    <tr>\n",
       "      <th>16.99</th>\n",
       "      <th>-99.50</th>\n",
       "      <td>2</td>\n",
       "    </tr>\n",
       "  </tbody>\n",
       "</table>\n",
       "</div>"
      ],
      "text/plain": [
       "                  count\n",
       "Latitud Longitud       \n",
       "30.82   -114.22       4\n",
       "16.26   -98.10        3\n",
       "15.39   -94.75        2\n",
       "19.22   -104.98       2\n",
       "16.23   -98.07        2\n",
       "16.31   -98.25        2\n",
       "        -98.22        2\n",
       "18.84   -98.83        2\n",
       "16.21   -98.11        2\n",
       "16.99   -99.50        2"
      ]
     },
     "execution_count": 7,
     "metadata": {},
     "output_type": "execute_result"
    }
   ],
   "source": [
    "# datos para heatmap\n",
    "\n",
    "df_copy[['Latitud', \n",
    "         'Longitud', \n",
    "         'count']].groupby(['Latitud', \n",
    "                             'Longitud']).sum().sort_values('count', \n",
    "                                                                   ascending=False).head(10)"
   ]
  },
  {
   "cell_type": "code",
   "execution_count": 8,
   "metadata": {},
   "outputs": [
    {
     "data": {
      "text/html": [
       "<div style=\"width:100%;\"><div style=\"position:relative;width:100%;height:0;padding-bottom:60%;\"><span style=\"color:#565656\">Make this Notebook Trusted to load map: File -> Trust Notebook</span><iframe src=\"about:blank\" style=\"position:absolute;width:100%;height:100%;left:0;top:0;border:none !important;\" data-html=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 onload=\"this.contentDocument.open();this.contentDocument.write(atob(this.getAttribute('data-html')));this.contentDocument.close();\" allowfullscreen webkitallowfullscreen mozallowfullscreen></iframe></div></div>"
      ],
      "text/plain": [
       "<folium.folium.Map at 0x7f5c3e94a5b0>"
      ]
     },
     "execution_count": 8,
     "metadata": {},
     "output_type": "execute_result"
    }
   ],
   "source": [
    "# heatmap\n",
    "\n",
    "HM(data=df_copy[['Latitud', \n",
    "                  'Longitud', \n",
    "                  'count']].groupby(['Latitud', \n",
    "                                      'Longitud']).sum().reset_index().values.tolist(), \n",
    "    radius=8, \n",
    "        max_zoom=13).add_to(mapa_base()) # pon los datos en heatmap\n",
    "\n",
    "#base_map.save('base_map.html')  # guarda\n",
    "\n",
    "base_map   # representa"
   ]
  },
  {
   "cell_type": "code",
   "execution_count": 9,
   "metadata": {},
   "outputs": [],
   "source": [
    "df_hour_list = []\n",
    "for hour in df_copy.semana.sort_values().unique():\n",
    "    df_hour_list.append(df_copy.loc[df_copy.semana == hour, \n",
    "                                    ['Latitud', \n",
    "                                     'Longitud', \n",
    "                                     'count']].groupby(['Latitud', \n",
    "                                                        'Longitud']).sum().reset_index().values.tolist())"
   ]
  },
  {
   "cell_type": "code",
   "execution_count": 10,
   "metadata": {},
   "outputs": [
    {
     "data": {
      "text/plain": [
       "14"
      ]
     },
     "execution_count": 10,
     "metadata": {},
     "output_type": "execute_result"
    }
   ],
   "source": [
    "len(df_hour_list)"
   ]
  },
  {
   "cell_type": "code",
   "execution_count": 11,
   "metadata": {},
   "outputs": [
    {
     "data": {
      "text/html": [
       "<div style=\"width:100%;\"><div style=\"position:relative;width:100%;height:0;padding-bottom:60%;\"><span style=\"color:#565656\">Make this Notebook Trusted to load map: File -> Trust Notebook</span><iframe src=\"about:blank\" style=\"position:absolute;width:100%;height:100%;left:0;top:0;border:none !important;\" data-html=PCFET0NUWVBFIGh0bWw+CjxoZWFkPiAgICAKICAgIDxtZXRhIGh0dHAtZXF1aXY9ImNvbnRlbnQtdHlwZSIgY29udGVudD0idGV4dC9odG1sOyBjaGFyc2V0PVVURi04IiAvPgogICAgCiAgICAgICAgPHNjcmlwdD4KICAgICAgICAgICAgTF9OT19UT1VDSCA9IGZhbHNlOwogICAgICAgICAgICBMX0RJU0FCTEVfM0QgPSBmYWxzZTsKICAgICAgICA8L3NjcmlwdD4KICAgIAogICAgPHNjcmlwdCBzcmM9Imh0dHBzOi8vY2RuLmpzZGVsaXZyLm5ldC9ucG0vbGVhZmxldEAxLjYuMC9kaXN0L2xlYWZsZXQuanMiPjwvc2NyaXB0PgogICAgPHNjcmlwdCBzcmM9Imh0dHBzOi8vY29kZS5qcXVlcnkuY29tL2pxdWVyeS0xLjEyLjQubWluLmpzIj48L3NjcmlwdD4KICAgIDxzY3JpcHQgc3JjPSJodHRwczovL21heGNkbi5ib290c3RyYXBjZG4uY29tL2Jvb3RzdHJhcC8zLjIuMC9qcy9ib290c3RyYXAubWluLmpzIj48L3NjcmlwdD4KICAgIDxzY3JpcHQgc3JjPSJodHRwczovL2NkbmpzLmNsb3VkZmxhcmUuY29tL2FqYXgvbGlicy9MZWFmbGV0LmF3ZXNvbWUtbWFya2Vycy8yLjAuMi9sZWFmbGV0LmF3ZXNvbWUtbWFya2Vycy5qcyI+PC9zY3JpcHQ+CiAgICA8bGluayByZWw9InN0eWxlc2hlZXQiIGhyZWY9Imh0dHBzOi8vY2RuLmpzZGVsaXZyLm5ldC9ucG0vbGVhZmxldEAxLjYuMC9kaXN0L2xlYWZsZXQuY3NzIi8+CiAgICA8bGluayByZWw9InN0eWxlc2hlZXQiIGhyZWY9Imh0dHBzOi8vbWF4Y2RuLmJvb3RzdHJhcGNkbi5jb20vYm9vdHN0cmFwLzMuMi4wL2Nzcy9ib290c3RyYXAubWluLmNzcyIvPgogICAgPGxpbmsgcmVsPSJzdHlsZXNoZWV0IiBocmVmPSJodHRwczovL21heGNkbi5ib290c3RyYXBjZG4uY29tL2Jvb3RzdHJhcC8zLjIuMC9jc3MvYm9vdHN0cmFwLXRoZW1lLm1pbi5jc3MiLz4KICAgIDxsaW5rIHJlbD0ic3R5bGVzaGVldCIgaHJlZj0iaHR0cHM6Ly9tYXhjZG4uYm9vdHN0cmFwY2RuLmNvbS9mb250LWF3ZXNvbWUvNC42LjMvY3NzL2ZvbnQtYXdlc29tZS5taW4uY3NzIi8+CiAgICA8bGluayByZWw9InN0eWxlc2hlZXQiIGhyZWY9Imh0dHBzOi8vY2RuanMuY2xvdWRmbGFyZS5jb20vYWpheC9saWJzL0xlYWZsZXQuYXdlc29tZS1tYXJrZXJzLzIuMC4yL2xlYWZsZXQuYXdlc29tZS1tYXJrZXJzLmNzcyIvPgogICAgPGxpbmsgcmVsPSJzdHlsZXNoZWV0IiBocmVmPSJodHRwczovL3Jhd2Nkbi5naXRoYWNrLmNvbS9weXRob24tdmlzdWFsaXphdGlvbi9mb2xpdW0vbWFzdGVyL2ZvbGl1bS90ZW1wbGF0ZXMvbGVhZmxldC5hd2Vzb21lLnJvdGF0ZS5jc3MiLz4KICAgIDxzdHlsZT5odG1sLCBib2R5IHt3aWR0aDogMTAwJTtoZWlnaHQ6IDEwMCU7bWFyZ2luOiAwO3BhZGRpbmc6IDA7fTwvc3R5bGU+CiAgICA8c3R5bGU+I21hcCB7cG9zaXRpb246YWJzb2x1dGU7dG9wOjA7Ym90dG9tOjA7cmlnaHQ6MDtsZWZ0OjA7fTwvc3R5bGU+CiAgICAKICAgICAgICAgICAgPG1ldGEgbmFtZT0idmlld3BvcnQiIGNvbnRlbnQ9IndpZHRoPWRldmljZS13aWR0aCwKICAgICAgICAgICAgICAgIGluaXRpYWwtc2NhbGU9MS4wLCBtYXhpbXVtLXNjYWxlPTEuMCwgdXNlci1zY2FsYWJsZT1ubyIgLz4KICAgICAgICAgICAgPHN0eWxlPgogICAgICAgICAgICAgICAgI21hcF9hZjNhNzQ0OTJhNWI0YzgxYTk5MGNmYmNkYmRkZDI2MiB7CiAgICAgICAgICAgICAgICAgICAgcG9zaXRpb246IHJlbGF0aXZlOwogICAgICAgICAgICAgICAgICAgIHdpZHRoOiAxMDAuMCU7CiAgICAgICAgICAgICAgICAgICAgaGVpZ2h0OiAxMDAuMCU7CiAgICAgICAgICAgICAgICAgICAgbGVmdDogMC4wJTsKICAgICAgICAgICAgICAgICAgICB0b3A6IDAuMCU7CiAgICAgICAgICAgICAgICB9CiAgICAgICAgICAgIDwvc3R5bGU+CiAgICAgICAgCiAgICA8c2NyaXB0IHNyYz0iaHR0cHM6Ly9yYXdjZG4uZ2l0aGFjay5jb20vbmV6YXNhL2lzbzg2MDEtanMtcGVyaW9kL21hc3Rlci9pc284NjAxLm1pbi5qcyI+PC9zY3JpcHQ+CiAgICA8c2NyaXB0IHNyYz0iaHR0cHM6Ly9yYXdjZG4uZ2l0aGFjay5jb20vc29jaWIvTGVhZmxldC5UaW1lRGltZW5zaW9uL21hc3Rlci9kaXN0L2xlYWZsZXQudGltZWRpbWVuc2lvbi5taW4uanMiPjwvc2NyaXB0PgogICAgPHNjcmlwdCBzcmM9Imh0dHBzOi8vcmF3Y2RuLmdpdGhhY2suY29tL3B5dGhvbi12aXN1YWxpemF0aW9uL2ZvbGl1bS9tYXN0ZXIvZm9saXVtL3RlbXBsYXRlcy9wYTdfaG0ubWluLmpzIj48L3NjcmlwdD4KICAgIDxzY3JpcHQgc3JjPSJodHRwczovL3Jhd2Nkbi5naXRoYWNrLmNvbS9weXRob24tdmlzdWFsaXphdGlvbi9mb2xpdW0vbWFzdGVyL2ZvbGl1bS90ZW1wbGF0ZXMvcGE3X2xlYWZsZXRfaG0ubWluLmpzIj48L3NjcmlwdD4KICAgIDxsaW5rIHJlbD0ic3R5bGVzaGVldCIgaHJlZj0iaHR0cHM6Ly9yYXdjZG4uZ2l0aGFjay5jb20vc29jaWIvTGVhZmxldC5UaW1lRGltZW5zaW9uL21hc3Rlci9kaXN0L2xlYWZsZXQudGltZWRpbWVuc2lvbi5jb250cm9sLm1pbi5jc3MiLz4KICAgIAogICAgICAgICAgICA8c2NyaXB0PgogICAgICAgICAgICAgICAgdmFyIFRESGVhdG1hcCA9IEwuVGltZURpbWVuc2lvbi5MYXllci5leHRlbmQoewoKICAgICAgICAgICAgaW5pdGlhbGl6ZTogZnVuY3Rpb24oZGF0YSwgb3B0aW9ucykgewogICAgICAgICAgICAgICAgdmFyIGhlYXRtYXBDZmcgPSB7CiAgICAgICAgICAgICAgICAgICAgcmFkaXVzOiAxNSwKICAgICAgICAgICAgICAgICAgICBtYXhPcGFjaXR5OiAxLiwKICAgICAgICAgICAgICAgICAgICBzY2FsZVJhZGl1czogZmFsc2UsCiAgICAgICAgICAgICAgICAgICAgdXNlTG9jYWxFeHRyZW1hOiBmYWxzZSwKICAgICAgICAgICAgICAgICAgICBsYXRGaWVsZDogJ2xhdCcsCiAgICAgICAgICAgICAgICAgICAgbG5nRmllbGQ6ICdsbmcnLAogICAgICAgICAgICAgICAgICAgIHZhbHVlRmllbGQ6ICdjb3VudCcsCiAgICAgICAgICAgICAgICAgICAgZGVmYXVsdFdlaWdodCA6IDEsCiAgICAgICAgICAgICAgICB9OwogICAgICAgICAgICAgICAgaGVhdG1hcENmZyA9ICQuZXh0ZW5kKHt9LCBoZWF0bWFwQ2ZnLCBvcHRpb25zLmhlYXRtYXBPcHRpb25zIHx8IHt9KTsKICAgICAgICAgICAgICAgIHZhciBsYXllciA9IG5ldyBIZWF0bWFwT3ZlcmxheShoZWF0bWFwQ2ZnKTsKICAgICAgICAgICAgICAgIEwuVGltZURpbWVuc2lvbi5MYXllci5wcm90b3R5cGUuaW5pdGlhbGl6ZS5jYWxsKHRoaXMsIGxheWVyLCBvcHRpb25zKTsKICAgICAgICAgICAgICAgIHRoaXMuX2N1cnJlbnRMb2FkZWRUaW1lID0gMDsKICAgICAgICAgICAgICAgIHRoaXMuX2N1cnJlbnRUaW1lRGF0YSA9IHsKICAgICAgICAgICAgICAgICAgICBkYXRhOiBbXQogICAgICAgICAgICAgICAgICAgIH07CiAgICAgICAgICAgICAgICB0aGlzLmRhdGE9IGRhdGE7CiAgICAgICAgICAgICAgICB0aGlzLmRlZmF1bHRXZWlnaHQgPSBoZWF0bWFwQ2ZnLmRlZmF1bHRXZWlnaHQgfHwgMTsKICAgICAgICAgICAgfSwKICAgICAgICAgICAgb25BZGQ6IGZ1bmN0aW9uKG1hcCkgewogICAgICAgICAgICAgICAgTC5UaW1lRGltZW5zaW9uLkxheWVyLnByb3RvdHlwZS5vbkFkZC5jYWxsKHRoaXMsIG1hcCk7CiAgICAgICAgICAgICAgICBtYXAuYWRkTGF5ZXIodGhpcy5fYmFzZUxheWVyKTsKICAgICAgICAgICAgICAgIGlmICh0aGlzLl90aW1lRGltZW5zaW9uKSB7CiAgICAgICAgICAgICAgICAgICAgdGhpcy5fZ2V0RGF0YUZvclRpbWUodGhpcy5fdGltZURpbWVuc2lvbi5nZXRDdXJyZW50VGltZSgpKTsKICAgICAgICAgICAgICAgIH0KICAgICAgICAgICAgfSwKICAgICAgICAgICAgX29uTmV3VGltZUxvYWRpbmc6IGZ1bmN0aW9uKGV2KSB7CiAgICAgICAgICAgICAgICB0aGlzLl9nZXREYXRhRm9yVGltZShldi50aW1lKTsKICAgICAgICAgICAgICAgIHJldHVybjsKICAgICAgICAgICAgfSwKICAgICAgICAgICAgaXNSZWFkeTogZnVuY3Rpb24odGltZSkgewogICAgICAgICAgICAgICAgcmV0dXJuICh0aGlzLl9jdXJyZW50TG9hZGVkVGltZSA9PSB0aW1lKTsKICAgICAgICAgICAgfSwKICAgICAgICAgICAgX3VwZGF0ZTogZnVuY3Rpb24oKSB7CiAgICAgICAgICAgICAgICB0aGlzLl9iYXNlTGF5ZXIuc2V0RGF0YSh0aGlzLl9jdXJyZW50VGltZURhdGEpOwogICAgICAgICAgICAgICAgcmV0dXJuIHRydWU7CiAgICAgICAgICAgIH0sCiAgICAgICAgICAgIF9nZXREYXRhRm9yVGltZTogZnVuY3Rpb24odGltZSkgewogICAgICAgICAgICAgICAgICAgIGRlbGV0ZSB0aGlzLl9jdXJyZW50VGltZURhdGEuZGF0YTsKICAgICAgICAgICAgICAgICAgICB0aGlzLl9jdXJyZW50VGltZURhdGEuZGF0YSA9IFtdOwogICAgICAgICAgICAgICAgICAgIHZhciBkYXRhID0gdGhpcy5kYXRhW3RpbWUtMV07CiAgICAgICAgICAgICAgICAgICAgZm9yICh2YXIgaSA9IDA7IGkgPCBkYXRhLmxlbmd0aDsgaSsrKSB7CiAgICAgICAgICAgICAgICAgICAgICAgIHRoaXMuX2N1cnJlbnRUaW1lRGF0YS5kYXRhLnB1c2goewogICAgICAgICAgICAgICAgICAgICAgICAgICAgICAgIGxhdDogZGF0YVtpXVswXSwKICAgICAgICAgICAgICAgICAgICAgICAgICAgICAgICBsbmc6IGRhdGFbaV1bMV0sCiAgICAgICAgICAgICAgICAgICAgICAgICAgICAgICAgY291bnQ6IGRhdGFbaV0ubGVuZ3RoPjIgPyBkYXRhW2ldWzJdIDogdGhpcy5kZWZhdWx0V2VpZ2h0CiAgICAgICAgICAgICAgICAgICAgICAgICAgICB9KTsKICAgICAgICAgICAgICAgICAgICAgICAgfQogICAgICAgICAgICAgICAgICAgIHRoaXMuX2N1cnJlbnRMb2FkZWRUaW1lID0gdGltZTsKICAgICAgICAgICAgICAgICAgICBpZiAodGhpcy5fdGltZURpbWVuc2lvbiAmJiB0aW1lID09IHRoaXMuX3RpbWVEaW1lbnNpb24uZ2V0Q3VycmVudFRpbWUoKSAmJiAhdGhpcy5fdGltZURpbWVuc2lvbi5pc0xvYWRpbmcoKSkgewogICAgICAgICAgICAgICAgICAgICAgICB0aGlzLl91cGRhdGUoKTsKICAgICAgICAgICAgICAgICAgICB9CiAgICAgICAgICAgICAgICAgICAgdGhpcy5maXJlKCd0aW1lbG9hZCcsIHsKICAgICAgICAgICAgICAgICAgICAgICAgdGltZTogdGltZQogICAgICAgICAgICAgICAgICAgIH0pOwogICAgICAgICAgICAgICAgfQogICAgICAgIH0pOwoKICAgICAgICBMLkNvbnRyb2wuVGltZURpbWVuc2lvbkN1c3RvbSA9IEwuQ29udHJvbC5UaW1lRGltZW5zaW9uLmV4dGVuZCh7CiAgICAgICAgICAgIGluaXRpYWxpemU6IGZ1bmN0aW9uKGluZGV4LCBvcHRpb25zKSB7CiAgICAgICAgICAgICAgICB2YXIgcGxheWVyT3B0aW9ucyA9IHsKICAgICAgICAgICAgICAgICAgICBidWZmZXI6IDEsCiAgICAgICAgICAgICAgICAgICAgbWluQnVmZmVyUmVhZHk6IC0xCiAgICAgICAgICAgICAgICAgICAgfTsKICAgICAgICAgICAgICAgIG9wdGlvbnMucGxheWVyT3B0aW9ucyA9ICQuZXh0ZW5kKHt9LCBwbGF5ZXJPcHRpb25zLCBvcHRpb25zLnBsYXllck9wdGlvbnMgfHwge30pOwogICAgICAgICAgICAgICAgTC5Db250cm9sLlRpbWVEaW1lbnNpb24ucHJvdG90eXBlLmluaXRpYWxpemUuY2FsbCh0aGlzLCBvcHRpb25zKTsKICAgICAgICAgICAgICAgIHRoaXMuaW5kZXggPSBpbmRleDsKICAgICAgICAgICAgICAgIH0sCiAgICAgICAgICAgIF9nZXREaXNwbGF5RGF0ZUZvcm1hdDogZnVuY3Rpb24oZGF0ZSl7CiAgICAgICAgICAgICAgICByZXR1cm4gdGhpcy5pbmRleFtkYXRlLmdldFRpbWUoKS0xXTsKICAgICAgICAgICAgICAgIH0KICAgICAgICAgICAgfSk7CiAgICAgICAgICAgIDwvc2NyaXB0PgogICAgICAgICAgICAgICAgCjwvaGVhZD4KPGJvZHk+ICAgIAogICAgCiAgICAgICAgICAgIDxkaXYgY2xhc3M9ImZvbGl1bS1tYXAiIGlkPSJtYXBfYWYzYTc0NDkyYTViNGM4MWE5OTBjZmJjZGJkZGQyNjIiID48L2Rpdj4KICAgICAgICAKPC9ib2R5Pgo8c2NyaXB0PiAgICAKICAgIAogICAgICAgICAgICB2YXIgbWFwX2FmM2E3NDQ5MmE1YjRjODFhOTkwY2ZiY2RiZGRkMjYyID0gTC5tYXAoCiAgICAgICAgICAgICAgICAibWFwX2FmM2E3NDQ5MmE1YjRjODFhOTkwY2ZiY2RiZGRkMjYyIiwKICAgICAgICAgICAgICAgIHsKICAgICAgICAgICAgICAgICAgICBjZW50ZXI6IFsyMy42MzQ1MDEsIC0xMDIuNTUyNzg0XSwKICAgICAgICAgICAgICAgICAgICBjcnM6IEwuQ1JTLkVQU0czODU3LAogICAgICAgICAgICAgICAgICAgIHpvb206IDQuNiwKICAgICAgICAgICAgICAgICAgICB6b29tQ29udHJvbDogdHJ1ZSwKICAgICAgICAgICAgICAgICAgICBwcmVmZXJDYW52YXM6IGZhbHNlLAogICAgICAgICAgICAgICAgfQogICAgICAgICAgICApOwogICAgICAgICAgICBMLmNvbnRyb2wuc2NhbGUoKS5hZGRUbyhtYXBfYWYzYTc0NDkyYTViNGM4MWE5OTBjZmJjZGJkZGQyNjIpOwoKICAgICAgICAgICAgCgogICAgICAgIAogICAgCiAgICAgICAgICAgIHZhciB0aWxlX2xheWVyXzU5MjA5NGYwYzU4MDRjNTFiMTZhMWUwNDM4MTA2OTQwID0gTC50aWxlTGF5ZXIoCiAgICAgICAgICAgICAgICAiaHR0cHM6Ly97c30udGlsZS5vcGVuc3RyZWV0bWFwLm9yZy97en0ve3h9L3t5fS5wbmciLAogICAgICAgICAgICAgICAgeyJhdHRyaWJ1dGlvbiI6ICJEYXRhIGJ5IFx1MDAyNmNvcHk7IFx1MDAzY2EgaHJlZj1cImh0dHA6Ly9vcGVuc3RyZWV0bWFwLm9yZ1wiXHUwMDNlT3BlblN0cmVldE1hcFx1MDAzYy9hXHUwMDNlLCB1bmRlciBcdTAwM2NhIGhyZWY9XCJodHRwOi8vd3d3Lm9wZW5zdHJlZXRtYXAub3JnL2NvcHlyaWdodFwiXHUwMDNlT0RiTFx1MDAzYy9hXHUwMDNlLiIsICJkZXRlY3RSZXRpbmEiOiBmYWxzZSwgIm1heE5hdGl2ZVpvb20iOiAxOCwgIm1heFpvb20iOiAxOCwgIm1pblpvb20iOiAwLCAibm9XcmFwIjogZmFsc2UsICJvcGFjaXR5IjogMSwgInN1YmRvbWFpbnMiOiAiYWJjIiwgInRtcyI6IGZhbHNlfQogICAgICAgICAgICApLmFkZFRvKG1hcF9hZjNhNzQ0OTJhNWI0YzgxYTk5MGNmYmNkYmRkZDI2Mik7CiAgICAgICAgCiAgICAKCiAgICAgICAgICAgIHZhciB0aW1lcyA9IFsxLCAyLCAzLCA0LCA1LCA2LCA3LCA4LCA5LCAxMCwgMTEsIDEyLCAxMywgMTRdOwoKICAgICAgICAgICAgbWFwX2FmM2E3NDQ5MmE1YjRjODFhOTkwY2ZiY2RiZGRkMjYyLnRpbWVEaW1lbnNpb24gPSBMLnRpbWVEaW1lbnNpb24oCiAgICAgICAgICAgICAgICB7dGltZXMgOiB0aW1lcywgY3VycmVudFRpbWU6IG5ldyBEYXRlKDEpfQogICAgICAgICAgICApOwoKICAgICAgICAgICAgdmFyIGhlYXRfbWFwXzk3NWE2NzNhY2RhNzQwZjQ4NDg0NzhiMmU5NmY2ZTEyQ29udHJvbCA9IG5ldyBMLkNvbnRyb2wuVGltZURpbWVuc2lvbkN1c3RvbShbJzEnLCAnMicsICczJywgJzQnLCAnNScsICc2JywgJzcnLCAnOCcsICc5JywgJzEwJywgJzExJywgJzEyJywgJzEzJywgJzE0J10sIHsKICAgICAgICAgICAgICAgIGF1dG9QbGF5OiBmYWxzZSwKICAgICAgICAgICAgICAgIGJhY2t3YXJkQnV0dG9uOiB0cnVlLAogICAgICAgICAgICAgICAgZGlzcGxheURhdGU6IHRydWUsCiAgICAgICAgICAgICAgICBmb3J3YXJkQnV0dG9uOiB0cnVlLAogICAgICAgICAgICAgICAgbGltaXRNaW5pbXVtUmFuZ2U6IDUsCiAgICAgICAgICAgICAgICBsaW1pdFNsaWRlcnM6IHRydWUsCiAgICAgICAgICAgICAgICBsb29wQnV0dG9uOiB0cnVlLAogICAgICAgICAgICAgICAgbWF4U3BlZWQ6IDEwLAogICAgICAgICAgICAgICAgbWluU3BlZWQ6IDAuMSwKICAgICAgICAgICAgICAgIHBsYXlCdXR0b246IHRydWUsCiAgICAgICAgICAgICAgICBwbGF5UmV2ZXJzZUJ1dHRvbjogdHJ1ZSwKICAgICAgICAgICAgICAgIHBvc2l0aW9uOiAiYm90dG9tbGVmdCIsCiAgICAgICAgICAgICAgICBzcGVlZFNsaWRlcjogdHJ1ZSwKICAgICAgICAgICAgICAgIHNwZWVkU3RlcDogMC4xLAogICAgICAgICAgICAgICAgc3R5bGVOUzogImxlYWZsZXQtY29udHJvbC10aW1lY29udHJvbCIsCiAgICAgICAgICAgICAgICB0aW1lU2xpZGVyOiB0cnVlLAogICAgICAgICAgICAgICAgdGltZVNsaWRlckRyYXBVcGRhdGU6IGZhbHNlLAogICAgICAgICAgICAgICAgdGltZVN0ZXBzOiAxCiAgICAgICAgICAgICAgICB9KQogICAgICAgICAgICAgICAgLmFkZFRvKG1hcF9hZjNhNzQ0OTJhNWI0YzgxYTk5MGNmYmNkYmRkZDI2Mik7CgogICAgICAgICAgICAgICAgdmFyIGhlYXRfbWFwXzk3NWE2NzNhY2RhNzQwZjQ4NDg0NzhiMmU5NmY2ZTEyID0gbmV3IFRESGVhdG1hcChbW1sxMy44OSwgLTkzLjMxLCAxLjBdLCBbMTUuMDIsIC05My4zMywgMS4wXSwgWzE1LjM2LCAtOTQuNTksIDEuMF0sIFsxNS40MSwgLTk0Ljg0LCAxLjBdLCBbMTUuNTIsIC05My43OSwgMS4wXSwgWzE1Ljg3LCAtOTguNzYsIDEuMF0sIFsxNS45LCAtOTguMDcsIDEuMF0sIFsxNi4xMSwgLTk3LjMyLCAxLjBdLCBbMTYuMjEsIC05OC4xMiwgMS4wXSwgWzE2LjIzLCAtOTguMDcsIDEuMF0sIFsxNi4zMSwgLTk4LjI1LCAxLjBdLCBbMTYuMzIsIC05OC4yOSwgMS4wXSwgWzE2LjM0LCAtOTguMjEsIDEuMF0sIFsxNi4zNSwgLTk1LjE2LCAxLjBdLCBbMTYuMzcsIC05NC42NywgMS4wXSwgWzE2LjQsIC05NS4yNiwgMS4wXSwgWzE2LjQzLCAtOTUuMDQsIDEuMF0sIFsxNi40NSwgLTk1LjA2LCAxLjBdLCBbMTYuNSwgLTk4LjQ2LCAxLjBdLCBbMTYuNjcsIC05OS41OSwgMS4wXSwgWzE2LjY4LCAtOTkuNTksIDEuMF0sIFsxNi44LCAtOTguNzcsIDEuMF0sIFsxNi45LCAtMTAwLjAzLCAxLjBdLCBbMTcuMDksIC0xMDAuMjgsIDEuMF0sIFsxOC4wLCAtMTAwLjE2LCAxLjBdLCBbMTguMDksIC0xMDMuMzYsIDEuMF0sIFsxOC4xNSwgLTEwMy41MywgMS4wXSwgWzE5LjQ4LCAtMTA1LjM0LCAxLjBdLCBbMTkuNSwgLTEwOC4xMywgMS4wXSwgWzE5LjYzLCAtMTA1LjM4LCAxLjBdXSwgW1sxNS4xNCwgLTk3LjI2LCAxLjBdLCBbMTUuMjIsIC05NC4yMSwgMS4wXSwgWzE1LjM4LCAtOTQuNjUsIDEuMF0sIFsxNS41NSwgLTk0LjY3LCAxLjBdLCBbMTUuNjQsIC05Ny4zOCwgMS4wXSwgWzE1Ljc1LCAtOTUuMDUsIDEuMF0sIFsxNS43NiwgLTkzLjYyLCAxLjBdLCBbMTUuOTcsIC05Ny42OCwgMS4wXSwgWzE2LjEyLCAtOTcuMjcsIDEuMF0sIFsxNi4zNywgLTk0Ljk5LCAxLjBdLCBbMTYuNTUsIC05OC42NSwgMS4wXSwgWzE2LjU1LCAtOTguNDQsIDEuMF0sIFsxNi43LCAtOTQuOTIsIDEuMF0sIFsxNy4xMSwgLTk0LjUyLCAxLjBdLCBbMTcuMTMsIC05NS4zNiwgMS4wXSwgWzE3LjE0LCAtOTguMTksIDEuMF0sIFsxNy4yNiwgLTk0LjkyLCAxLjBdLCBbMTcuNDMsIC05NS44NCwgMS4wXSwgWzE3LjUzLCAtOTEuNiwgMS4wXSwgWzE3LjksIC05OC43MiwgMS4wXSwgWzE4LjE1LCAtMTAzLjI4LCAxLjBdLCBbMTguMTcsIC0xMDMuMzgsIDEuMF0sIFsxOS4wNSwgLTk1Ljc3LCAxLjBdLCBbMTkuMjcsIC0xMDMuNywgMS4wXSwgWzE5LjQsIC0xMDMuODYsIDEuMF0sIFsxOS41LCAtMTA0LjIzLCAxLjBdLCBbMTkuODMsIC0xMDQuNDYsIDEuMF1dLCBbWzE0LjI4LCAtOTIuODIsIDEuMF0sIFsxNS4zNywgLTk0LjY5LCAxLjBdLCBbMTUuMzcsIC05My4xOCwgMS4wXSwgWzE1LjQxLCAtOTQuNzYsIDEuMF0sIFsxNS40NiwgLTkyLjczLCAxLjBdLCBbMTUuNDgsIC05NC42OCwgMS4wXSwgWzE1LjUxLCAtOTQuNTksIDEuMF0sIFsxNS41NCwgLTkzLjMsIDEuMF0sIFsxNS41NSwgLTk1LjUyLCAxLjBdLCBbMTUuNTUsIDk1LjUyLCAxLjBdLCBbMTUuODUsIC05OC45NSwgMS4wXSwgWzE1Ljg1LCAtOTguOTMsIDEuMF0sIFsxNS44OCwgLTk5LjQyLCAxLjBdLCBbMTUuOTUsIC05OC44MiwgMS4wXSwgWzE1Ljk2LCAtOTguODIsIDEuMF0sIFsxNi4wLCAtOTguODcsIDEuMF0sIFsxNi4wMSwgLTk4LjYyLCAxLjBdLCBbMTYuMDUsIC05Ny4zNCwgMS4wXSwgWzE2LjE2LCAtOTYuOTYsIDEuMF0sIFsxNi4yMywgLTk4LjA0LCAxLjBdLCBbMTYuMjUsIC05OC4xNCwgMS4wXSwgWzE2LjI2LCAtOTguMTIsIDEuMF0sIFsxNi4yNiwgLTk3Ljk3LCAxLjBdLCBbMTYuMjcsIC05OC4wNSwgMS4wXSwgWzE2LjM3LCAtOTQuNzEsIDEuMF0sIFsxNi4zOCwgLTk4LjI2LCAxLjBdLCBbMTYuNDksIC05OC4yMywgMS4wXSwgWzE2LjUsIC05OS4zLCAxLjBdLCBbMTYuNTIsIC05OS4wMSwgMS4wXSwgWzE2LjUzLCAtOTkuMjQsIDEuMF0sIFsxNi42LCAtMTAwLjQ3LCAxLjBdLCBbMTYuNzIsIC05OC45OCwgMS4wXSwgWzE2LjcyLCAtOTQuODQsIDEuMF0sIFsxNi43OSwgLTk5Ljk0LCAxLjBdLCBbMTYuODEsIC0xMDAuMjQsIDEuMF0sIFsxNi44OSwgLTEwMC41OCwgMS4wXSwgWzE2LjkxLCAtMTAwLjEzLCAxLjBdLCBbMTcuOTgsIC0xMDAuMywgMS4wXSwgWzE4LjA0LCAtOTkuOTMsIDEuMF0sIFsxOC4wNywgLTEwMy4zMiwgMS4wXSwgWzE4LjE0LCAtMTAwLjU4LCAxLjBdLCBbMTguNDQsIC0xMDMuMzUsIDEuMF0sIFsxOC41MiwgLTEwMy4yOSwgMS4wXSwgWzE4LjkxLCAtMTA1LjEsIDEuMF0sIFsxOS45LCAtMTA0LjgxLCAxLjBdLCBbMjYuOTksIC0xMTEuMzcsIDEuMF1dLCBbWzEzLjg1LCAtOTMuMzgsIDEuMF0sIFsxMy45OSwgLTkzLjI5LCAxLjBdLCBbMTQuNzUsIC05Mi4yNSwgMS4wXSwgWzE0LjkyLCAtOTMuNjksIDEuMF0sIFsxNS4xMywgLTk0LjM2LCAxLjBdLCBbMTUuNCwgLTk0LjgyLCAxLjBdLCBbMTUuNjgsIC05My4zLCAxLjBdLCBbMTUuNywgLTkzLjY1LCAxLjBdLCBbMTUuOTIsIC05NC4wMywgMS4wXSwgWzE1Ljk1LCAtOTYuMTgsIDEuMF0sIFsxNS45OSwgLTk1LjE0LCAxLjBdLCBbMTYuMCwgLTk3LjgyLCAxLjBdLCBbMTYuMDIsIC05NS42NywgMS4wXSwgWzE2LjA1LCAtOTcuNTMsIDEuMF0sIFsxNi4wOCwgLTk3LjE3LCAxLjBdLCBbMTYuMTIsIC05Ny4xMywgMS4wXSwgWzE2LjEzLCAtOTcuNDUsIDEuMF0sIFsxNi4yMSwgLTk3LjI2LCAxLjBdLCBbMTYuMjUsIC05OC4wOSwgMS4wXSwgWzE2LjI1LCAtOTguMDEsIDEuMF0sIFsxNi4yNiwgLTk4LjEsIDEuMF0sIFsxNi40MiwgLTk0LjQxLCAxLjBdLCBbMTYuNDksIC05NS4wMSwgMS4wXSwgWzE2LjQ5LCAtOTQuNjIsIDEuMF0sIFsxNi41MiwgLTk1LjM4LCAxLjBdLCBbMTYuNTUsIC05NC42NywgMS4wXSwgWzE2LjU2LCAtOTYuNjcsIDEuMF0sIFsxNi41NiwgLTk0LjY3LCAxLjBdLCBbMTYuNTgsIC05Ni40NywgMS4wXSwgWzE2LjcxLCAtOTkuNjMsIDEuMF0sIFsxNi43MSwgLTk1LjMxLCAxLjBdLCBbMTYuNzIsIC05NS4zOCwgMS4wXSwgWzE2LjczLCAtOTkuMjMsIDEuMF0sIFsxNi43MywgLTk1LjMzLCAxLjBdLCBbMTYuODMsIC0xMDAuMTgsIDEuMF0sIFsxNi45LCAtOTkuMzEsIDEuMF0sIFsxNi45LCAtOTQuODksIDEuMF0sIFsxNi45NywgLTEwMC43MiwgMS4wXSwgWzE3LjAsIC05NS4yNSwgMS4wXSwgWzE3LjAxLCAtOTUuODUsIDEuMF0sIFsxNy4wMSwgLTk1LjI1LCAxLjBdLCBbMTcuMDMsIC05OC45NiwgMS4wXSwgWzE3LjA5LCAtOTQuMTQsIDEuMF0sIFsxNy4xMiwgLTk4Ljk2LCAxLjBdLCBbMTcuMzIsIC0xMDAuNzQsIDEuMF0sIFsxNy4zNCwgLTk0LjYyLCAxLjBdLCBbMTcuMzYsIC05NC45NSwgMS4wXSwgWzE3LjM3LCAtMTAzLjM0LCAxLjBdLCBbMTcuMzcsIC05NC45NCwgMS4wXSwgWzE3LjQzLCAtMTAxLjUsIDEuMF0sIFsxNy43NywgLTEwMi44NywgMS4wXSwgWzE3LjgxLCAtOTUuNDIsIDEuMF0sIFsxOC4wOSwgLTEwMy4yNCwgMS4wXSwgWzE4LjEsIC0xMDMuMjUsIDEuMF0sIFsxOC4xMSwgLTEwMS42MSwgMS4wXSwgWzE4LjE3LCAtMTAwLjI0LCAxLjBdLCBbMTguMjcsIC0xMDMuMjQsIDEuMF0sIFsxOC4zNSwgLTEwMC40NCwgMS4wXSwgWzE4LjYzLCAtMTAyLjQ5LCAxLjBdLCBbMTguODYsIC0xMDQuMjgsIDEuMF0sIFsxOC45NiwgLTEwNC4wOCwgMS4wXSwgWzE5LjE4LCAtMTA0Ljc2LCAxLjBdLCBbMTkuMjIsIC0xMDIuNzQsIDEuMF0sIFsxOS4yMywgLTEwNC4xMiwgMS4wXSwgWzE5LjI3LCAtMTA0LjEsIDEuMF0sIFsxOS40OCwgLTEwNC4xLCAxLjBdLCBbMTkuNzcsIC0xMDUuNDgsIDEuMF0sIFsxOS45LCAtMTA0LjQyLCAxLjBdLCBbMTkuOTQsIC0xMDQuNDMsIDEuMF0sIFsyMC41NSwgLTEwNi4wMiwgMS4wXSwgWzI1LjE0LCAtMTEwLjQ2LCAxLjBdLCBbMjguMDIsIC0xMTIuMjUsIDEuMF0sIFszMS45NiwgLTExNi4xLCAxLjBdLCBbMzIuMDUsIC0xMTUuNzQsIDEuMF0sIFszMi4xNCwgLTExNS44NCwgMS4wXV0sIFtbMTQuNDIsIC05My40NSwgMS4wXSwgWzE0Ljc3LCAtOTIuOTYsIDEuMF0sIFsxNS4yNiwgLTk0LjMzLCAxLjBdLCBbMTUuMjgsIC05NC44LCAxLjBdLCBbMTUuMzksIC05NC43MywgMS4wXSwgWzE1LjQsIC05NC45MSwgMS4wXSwgWzE1LjQxLCAtOTQuOCwgMS4wXSwgWzE1LjQzLCAtOTQuOTIsIDEuMF0sIFsxNS41LCAtOTQuOTcsIDEuMF0sIFsxNS42MiwgLTkzLjYyLCAxLjBdLCBbMTUuNjUsIC05Ni4wMiwgMS4wXSwgWzE1LjgxLCAtOTcuMDEsIDEuMF0sIFsxNS44MiwgLTk0Ljk2LCAxLjBdLCBbMTUuOTEsIC05OC40NywgMS4wXSwgWzE2LjE1LCAtOTguNDksIDEuMF0sIFsxNi4xNiwgLTk4LjMyLCAxLjBdLCBbMTYuMjUsIC05Ny43OCwgMS4wXSwgWzE2LjI4LCAtMTAwLjIxLCAxLjBdLCBbMTYuMjksIC05OC4yNCwgMS4wXSwgWzE2LjM3LCAtOTguMTEsIDEuMF0sIFsxNi4zOSwgLTk5LjU2LCAxLjBdLCBbMTYuNDQsIC05OC42NSwgMS4wXSwgWzE2LjQ3LCAtOTkuNTMsIDEuMF0sIFsxNi41MywgLTk0LjY1LCAxLjBdLCBbMTYuNjYsIC05OS4yLCAxLjBdLCBbMTYuNywgLTk0LjIsIDEuMF0sIFsxNi43NiwgLTk5LjQ0LCAxLjBdLCBbMTYuODYsIC0xMDAuMjUsIDEuMF0sIFsxNi45MywgLTEwMC4wMSwgMS4wXSwgWzE3LjA5LCAtOTkuNjIsIDEuMF0sIFsxNy4xMiwgLTk5LjY2LCAxLjBdLCBbMTcuMTksIC05NC41NywgMS4wXSwgWzE3LjI0LCAtOTguNTIsIDEuMF0sIFsxNy44NywgLTk3LjQyLCAxLjBdLCBbMTcuOTEsIC05Ny43LCAxLjBdLCBbMTguMDMsIC0xMDMuMzEsIDEuMF0sIFsxOC4wNiwgLTEwMy4zNCwgMS4wXSwgWzE4LjY3LCAtMTA0LjQxLCAxLjBdLCBbMTkuMDksIC0xMDUuMywgMS4wXSwgWzE5LjExLCAtMTA0LjMsIDEuMF0sIFsxOS4xMywgLTk4LjcxLCAxLjBdLCBbMTkuMjksIC0xMDQuMDIsIDEuMF0sIFsxOS4zNiwgLTEwNC4xOSwgMS4wXSwgWzE5LjQxLCAtMTA0LjI4LCAxLjBdLCBbMTkuOTUsIC0xMDQuNzYsIDEuMF0sIFszMi40MSwgLTExNS4yMywgMS4wXV0sIFtbMTMuNiwgLTkyLjM4LCAxLjBdLCBbMTQuMTMsIC05My4zNCwgMS4wXSwgWzE0LjIyLCAtOTIuNTksIDEuMF0sIFsxNC41MSwgLTkyLjE4LCAxLjBdLCBbMTQuNywgLTkyLjE4LCAxLjBdLCBbMTQuOTIsIC05OC4wNCwgMS4wXSwgWzE0Ljk1LCAtOTQuMTgsIDEuMF0sIFsxNC45OSwgLTk0LjMsIDEuMF0sIFsxNS4wNywgLTk0LjQ2LCAxLjBdLCBbMTUuMTksIC05NC42LCAxLjBdLCBbMTUuMjMsIC05NC41NywgMS4wXSwgWzE1LjQyLCAtOTQuOTcsIDEuMF0sIFsxNS40NywgLTk1LjE2LCAxLjBdLCBbMTUuNDgsIC05NC44NCwgMS4wXSwgWzE1LjUyLCAtOTMuNjMsIDEuMF0sIFsxNS41NSwgLTk4LjY0LCAxLjBdLCBbMTUuNjMsIC05Mi44LCAxLjBdLCBbMTUuNjQsIC05NS4wOSwgMS4wXSwgWzE1LjY2LCAtOTUuMTEsIDEuMF0sIFsxNS43LCAtOTUuMTgsIDEuMF0sIFsxNS43NiwgLTk1LjI2LCAxLjBdLCBbMTUuODEsIC05My41OSwgMS4wXSwgWzE1LjgyLCAtOTQuMCwgMS4wXSwgWzE1LjgyLCAtOTMuMDMsIDEuMF0sIFsxNS44OCwgLTk1LjE4LCAxLjBdLCBbMTUuOTMsIC05OC4xNSwgMS4wXSwgWzE2LjAsIC05OC4xOCwgMS4wXSwgWzE2LjAsIC05Ny40OSwgMS4wXSwgWzE2LjAxLCAtOTUuMjEsIDEuMF0sIFsxNi4wNywgLTk3LjYxLCAxLjBdLCBbMTYuMDcsIC05Ny4xNCwgMS4wXSwgWzE2LjExLCAtOTcuNzYsIDEuMF0sIFsxNi4xMiwgLTk3LjIxLCAxLjBdLCBbMTYuMTIsIC05Ny4xOCwgMS4wXSwgWzE2LjEyLCAtOTYuOTYsIDEuMF0sIFsxNi4xNiwgLTk1LjIyLCAxLjBdLCBbMTYuMTYsIC05NS4yLCAxLjBdLCBbMTYuMjMsIC05OC4wNywgMS4wXSwgWzE2LjIzLCAtOTcuODUsIDEuMF0sIFsxNi4yNCwgLTk4LjA4LCAxLjBdLCBbMTYuMjYsIC05Ny40NSwgMS4wXSwgWzE2LjI5LCAtOTguMTMsIDEuMF0sIFsxNi4zLCAtOTguMjUsIDEuMF0sIFsxNi4zMSwgLTk4LjMsIDEuMF0sIFsxNi4zMSwgLTk4LjIyLCAyLjBdLCBbMTYuMzMsIC05My41NiwgMS4wXSwgWzE2LjM0LCAtOTguMjMsIDEuMF0sIFsxNi4zNiwgLTk1LjM2LCAxLjBdLCBbMTYuMzYsIC05NS4wNSwgMS4wXSwgWzE2LjM4LCAtOTUuMiwgMS4wXSwgWzE2LjQyLCAtOTUuMjQsIDEuMF0sIFsxNi40NCwgLTk0LjM4LCAxLjBdLCBbMTYuNDUsIC05NS40OSwgMS4wXSwgWzE2LjQ4LCAtOTguNDUsIDEuMF0sIFsxNi41MiwgLTk4LjQ4LCAxLjBdLCBbMTYuNTUsIC05OS42NCwgMS4wXSwgWzE2LjY4LCAtOTkuMjUsIDEuMF0sIFsxNi42OCwgLTk0LjExLCAxLjBdLCBbMTYuNjksIC05OS40MiwgMS4wXSwgWzE2LjcyLCAtOTkuMTgsIDEuMF0sIFsxNi43MiwgLTk1LjY2LCAxLjBdLCBbMTYuNzMsIC05NC4zNywgMS4wXSwgWzE2Ljc0LCAtOTkuNzMsIDEuMF0sIFsxNi43NywgLTk1LjY3LCAxLjBdLCBbMTYuNzgsIC05NC40MywgMS4wXSwgWzE2LjkxLCAtOTQuODcsIDEuMF0sIFsxNi45MiwgLTk5LjEyLCAxLjBdLCBbMTYuOTYsIC0xMDAuMDcsIDEuMF0sIFsxNi45NywgLTk0LjA5LCAxLjBdLCBbMTcuMCwgLTk0LjUsIDEuMF0sIFsxNy4wMSwgLTk5LjYsIDEuMF0sIFsxNy4wNSwgLTk2LjA5LCAxLjBdLCBbMTcuMSwgLTEwMC4yNCwgMS4wXSwgWzE3LjEsIC05My44MywgMS4wXSwgWzE3LjExLCAtMTAxLjA4LCAxLjBdLCBbMTcuMjUsIC05NC4zNiwgMS4wXSwgWzE3LjQyLCAtMTAxLjU1LCAxLjBdLCBbMTcuNDksIC05My45NiwgMS4wXSwgWzE3LjYsIC05NC43OCwgMS4wXSwgWzE3LjY1LCAtMTAxLjg2LCAxLjBdLCBbMTcuOSwgLTk1LjA4LCAxLjBdLCBbMTcuOTIsIC0xMDAuNzQsIDEuMF0sIFsxNy45OSwgLTEwMC40OSwgMS4wXSwgWzE4LjA5LCAtMTAzLjYyLCAxLjBdLCBbMTguMTYsIC0xMDMuNDYsIDEuMF0sIFsxOC4yMiwgLTk0LjczLCAxLjBdLCBbMTguMzYsIC0xMDEuNDEsIDEuMF0sIFsxOC44OSwgLTEwNC42MiwgMS4wXSwgWzE5LjExLCAtMTA0LjE2LCAxLjBdLCBbMTkuNDMsIC0xMDQuODQsIDEuMF0sIFsyMC4xNCwgLTEwNi43NywgMS4wXSwgWzI1LjYxLCAtMTA0Ljg0LCAxLjBdLCBbMjUuODQsIC0xMDguMjcsIDEuMF0sIFsyNi4wMSwgLTEwNy45NCwgMS4wXSwgWzI2LjA0LCAtMTA3Ljg5LCAxLjBdLCBbMzIuMzIsIC0xMTUuMzcsIDEuMF1dLCBbWzE0LjEsIC05My42LCAxLjBdLCBbMTQuODEsIC05My4zNCwgMS4wXSwgWzE0Ljk3LCAtOTcuNjksIDEuMF0sIFsxNS4wOSwgLTkyLjEzLCAxLjBdLCBbMTUuMzQsIC05NC4zNywgMS4wXSwgWzE1LjM1LCAtOTQuNzQsIDEuMF0sIFsxNS4zNSwgLTkzLjE4LCAxLjBdLCBbMTUuMzUsIC05My4wOCwgMS4wXSwgWzE1LjM5LCAtOTQuNzUsIDEuMF0sIFsxNS40LCAtOTQuODIsIDEuMF0sIFsxNS40MywgLTkyLjg5LCAxLjBdLCBbMTUuNTIsIC05NC44NiwgMS4wXSwgWzE1LjUyLCAtOTMuMzMsIDEuMF0sIFsxNS42MywgLTk3LjUxLCAxLjBdLCBbMTUuODEsIC05Mi43MiwgMS4wXSwgWzE1Ljg0LCAtOTcuMTQsIDEuMF0sIFsxNS44OSwgLTk3LjIzLCAxLjBdLCBbMTUuODksIC05NS4wOSwgMS4wXSwgWzE1LjkzLCAtOTcuNjUsIDEuMF0sIFsxNS45MywgLTk3LjMzLCAxLjBdLCBbMTUuOTMsIC05My45MSwgMS4wXSwgWzE1Ljk1LCAtOTguODgsIDEuMF0sIFsxNS45NiwgLTk1LjI2LCAxLjBdLCBbMTUuOTksIC05NS4yMiwgMS4wXSwgWzE2LjA5LCAtOTYuOTcsIDEuMF0sIFsxNi4xNywgLTk3LjYsIDEuMF0sIFsxNi4xNywgLTk1LjAzLCAxLjBdLCBbMTYuMjUsIC05OC4wNywgMS4wXSwgWzE2LjI4LCAtOTcuNzUsIDEuMF0sIFsxNi4yOSwgLTk4LjA3LCAxLjBdLCBbMTYuMzEsIC05NS41MiwgMS4wXSwgWzE2LjMyLCAtOTguMjQsIDEuMF0sIFsxNi40MywgLTk1LjA4LCAxLjBdLCBbMTYuNDUsIC05My40NywgMS4wXSwgWzE2LjQ2LCAtOTUuMSwgMS4wXSwgWzE2LjUxLCAtOTkuMSwgMS4wXSwgWzE2LjUxLCAtOTguNDEsIDEuMF0sIFsxNi41MSwgLTk2LjA3LCAxLjBdLCBbMTYuNTEsIC05NC42NSwgMS4wXSwgWzE2LjUyLCAtOTUuMSwgMS4wXSwgWzE2LjU0LCAtOTYuMTMsIDEuMF0sIFsxNi41NiwgLTk4LjQ3LCAxLjBdLCBbMTYuNTYsIC05NC43NSwgMS4wXSwgWzE2LjYsIC05NC43MSwgMS4wXSwgWzE2LjY0LCAtOTQuNjgsIDEuMF0sIFsxNi44MSwgLTk4LjksIDEuMF0sIFsxNi44MiwgLTk0Ljg2LCAxLjBdLCBbMTYuODQsIC05OC40MywgMS4wXSwgWzE2Ljg4LCAtOTguMzYsIDEuMF0sIFsxNi45OSwgLTEwMC4yNSwgMS4wXSwgWzE3LjAxLCAtMTAwLjAzLCAxLjBdLCBbMTcuMDMsIC05NS41NywgMS4wXSwgWzE3LjEsIC0xMDAuMTUsIDEuMF0sIFsxNy4yMSwgLTk1LjI4LCAxLjBdLCBbMTcuMjIsIC0xMDEuNTEsIDEuMF0sIFsxNy4yNiwgLTk1LjIxLCAxLjBdLCBbMTcuMjksIC0xMDEuMDUsIDEuMF0sIFsxNy4yOSwgLTk0LjYyLCAxLjBdLCBbMTcuNDYsIC05NS41MywgMS4wXSwgWzE3LjUsIC0xMDMuNzQsIDEuMF0sIFsxNy45NSwgLTEwMS40LCAxLjBdLCBbMTguMDUsIC0xMDMuMzIsIDEuMF0sIFsxOC4wOSwgLTk5LjU5LCAxLjBdLCBbMTguMTQsIC0xMDMuNDIsIDEuMF0sIFsxOC4xNiwgLTEwMy40MiwgMS4wXSwgWzE4LjE3LCAtMTAzLjQ4LCAxLjBdLCBbMTguMiwgLTEwMS44NSwgMS4wXSwgWzE4LjUyLCAtMTAzLjI1LCAxLjBdLCBbMTkuODQsIC0xMDUuNjQsIDEuMF0sIFsxOS45MSwgLTEwNS4zMSwgMS4wXSwgWzIwLjQsIC0xMDYuMjUsIDEuMF0sIFsyMC40LCAtMTA1LjI1LCAxLjBdLCBbMzAuMjEsIC0xMTQuMTYsIDEuMF0sIFszMC4yMSwgLTExNC4xMiwgMS4wXSwgWzMwLjIzLCAtMTEzLjg0LCAxLjBdLCBbMzAuMjksIC0xMTQuMTIsIDEuMF0sIFszMC4yOSwgLTExNC4wNiwgMS4wXSwgWzMwLjMsIC0xMTQuMDgsIDEuMF1dLCBbWzE0LjExLCAtOTMuNiwgMS4wXSwgWzE0LjIsIC05NC4yMiwgMS4wXSwgWzE0Ljc3LCAtOTMuNzIsIDEuMF0sIFsxNC43NywgLTkyLjQxLCAxLjBdLCBbMTQuOTYsIC05My4yMywgMS4wXSwgWzE1LjAyLCAtOTQuMTYsIDEuMF0sIFsxNS40NSwgLTk1LjA3LCAxLjBdLCBbMTUuNDgsIC05NC44MywgMS4wXSwgWzE1LjU0LCAtOTUuMDUsIDEuMF0sIFsxNS42OSwgLTk4LjUsIDEuMF0sIFsxNS43OCwgLTk1LjIxLCAxLjBdLCBbMTUuODMsIC05Ni42LCAxLjBdLCBbMTUuODYsIC05Ni4zMywgMS4wXSwgWzE1LjkxLCAtOTUuMTQsIDEuMF0sIFsxNS45MywgLTk3Ljk0LCAxLjBdLCBbMTYuMDEsIC05Ny42NywgMS4wXSwgWzE2LjAyLCAtOTQuMTgsIDEuMF0sIFsxNi4wMywgLTkzLjgsIDEuMF0sIFsxNi4wNSwgLTk4LjQzLCAxLjBdLCBbMTYuMDgsIC05Ny44LCAxLjBdLCBbMTYuMTUsIC05Ny4zLCAxLjBdLCBbMTYuMjEsIC05OC4xMSwgMS4wXSwgWzE2LjIyLCAtOTYuMDEsIDEuMF0sIFsxNi4yNCwgLTk4LjQ4LCAxLjBdLCBbMTYuMjQsIC05OC4xLCAxLjBdLCBbMTYuMjcsIC05Ny44NSwgMS4wXSwgWzE2LjI4LCAtOTcuOTYsIDEuMF0sIFsxNi4yOSwgLTk4LjQ2LCAxLjBdLCBbMTYuNDMsIC05NS4yOSwgMS4wXSwgWzE2LjQ0LCAtOTUuMTgsIDEuMF0sIFsxNi40NywgLTk1LjI1LCAxLjBdLCBbMTYuNTEsIC05OS4wMSwgMS4wXSwgWzE2LjUxLCAtOTQuNTUsIDEuMF0sIFsxNi41NSwgLTk4LjQzLCAxLjBdLCBbMTYuNTUsIC05Ni42OSwgMS4wXSwgWzE2LjU3LCAtOTMuOTUsIDEuMF0sIFsxNi41OCwgLTk4LjUxLCAxLjBdLCBbMTYuNTgsIC05NC41NywgMS4wXSwgWzE2LjY5LCAtOTQuMjMsIDEuMF0sIFsxNi43MywgLTk1LjAxLCAxLjBdLCBbMTYuNzUsIC05Ni4zOCwgMS4wXSwgWzE2LjgyLCAtOTQuNzEsIDEuMF0sIFsxNi45NSwgLTk0LjE5LCAxLjBdLCBbMTcuMDMsIC0xMDEuNTQsIDEuMF0sIFsxNy4xNywgLTEwMC41NSwgMS4wXSwgWzE3LjI2LCAtMTAwLjI3LCAxLjBdLCBbMTcuMzgsIC0xMDAuNTEsIDEuMF0sIFsxNy40NCwgLTEwMS41OCwgMS4wXSwgWzE3LjUxLCAtOTQuNzMsIDEuMF0sIFsxNy42NSwgLTk1LjYsIDEuMF0sIFsxNy43LCAtMTAyLjE5LCAxLjBdLCBbMTcuNzEsIC05Ni41OSwgMS4wXSwgWzE4LjA5LCAtMTAzLjMsIDEuMF0sIFsxOC4zNywgLTk5Ljk2LCAxLjBdLCBbMTguNTYsIC05Ni4wOSwgMS4wXSwgWzI1LjEsIC0xMTIuNDEsIDEuMF1dLCBbWzEzLjU4LCAtOTMuMiwgMS4wXSwgWzEzLjY1LCAtOTMuMzMsIDEuMF0sIFsxMy43NywgLTkzLjI1LCAxLjBdLCBbMTMuODEsIC05My40NSwgMS4wXSwgWzEzLjgzLCAtOTMuNjEsIDEuMF0sIFsxMy44NiwgLTkzLjI4LCAxLjBdLCBbMTMuODksIC05My4yOCwgMS4wXSwgWzE0LjQ3LCAtOTIuNDksIDEuMF0sIFsxNC43NCwgLTkzLjcyLCAxLjBdLCBbMTQuNzgsIC05My43LCAxLjBdLCBbMTQuODMsIC05NC4yNSwgMS4wXSwgWzE1LjAyLCAtOTYuMzQsIDEuMF0sIFsxNS4xNCwgLTk0LjY0LCAxLjBdLCBbMTUuMjQsIC05NC42LCAxLjBdLCBbMTUuMjcsIC05My4xOSwgMS4wXSwgWzE1LjI5LCAtOTQuNzMsIDEuMF0sIFsxNS4zNCwgLTk0Ljc4LCAxLjBdLCBbMTUuMzksIC05NC43NSwgMS4wXSwgWzE1LjQsIC05NC43OSwgMS4wXSwgWzE1LjQyLCAtOTQuODcsIDEuMF0sIFsxNS40MiwgLTk0Ljg0LCAxLjBdLCBbMTUuNDIsIC05NC42NSwgMS4wXSwgWzE1LjQ2LCAtOTQuODcsIDEuMF0sIFsxNS41MywgLTk2Ljg4LCAxLjBdLCBbMTUuNTMsIC05Ni44MSwgMS4wXSwgWzE1LjU3LCAtOTMuNzcsIDEuMF0sIFsxNS42MiwgLTk1LjUsIDEuMF0sIFsxNS42NSwgLTk2Ljg5LCAxLjBdLCBbMTUuNjcsIC05NS4yNSwgMS4wXSwgWzE1Ljc3LCAtOTUuNiwgMS4wXSwgWzE1Ljc4LCAtOTcuMSwgMS4wXSwgWzE1Ljc4LCAtOTUuMTcsIDEuMF0sIFsxNS43OSwgLTk5LjA2LCAxLjBdLCBbMTUuNzksIC05NC45NywgMS4wXSwgWzE1LjgsIC05OC4zMywgMS4wXSwgWzE1LjgxLCAtOTMuNTQsIDEuMF0sIFsxNS45MSwgLTk1LjIsIDEuMF0sIFsxNS45NCwgLTk4LjA2LCAxLjBdLCBbMTUuOTgsIC05Ny41MiwgMS4wXSwgWzE2LjAzLCAtOTguNzIsIDEuMF0sIFsxNi4wMywgLTk3LjY3LCAxLjBdLCBbMTYuMDMsIC05Ni45MiwgMS4wXSwgWzE2LjA1LCAtOTcuNjYsIDEuMF0sIFsxNi4wNywgLTk4LjQ0LCAxLjBdLCBbMTYuMTEsIC05NS4yOCwgMS4wXSwgWzE2LjEyLCAtOTcuNTksIDEuMF0sIFsxNi4xMywgLTk1Ljg0LCAxLjBdLCBbMTYuMTYsIC05Ny42MSwgMS4wXSwgWzE2LjE2LCAtOTUuMTcsIDEuMF0sIFsxNi4xNywgLTk3LjU2LCAxLjBdLCBbMTYuMTksIC05Ny4yNiwgMS4wXSwgWzE2LjIzLCAtOTguMjcsIDEuMF0sIFsxNi4yOSwgLTk3LjgzLCAxLjBdLCBbMTYuMywgLTk4LjEzLCAxLjBdLCBbMTYuMywgLTk4LjEsIDEuMF0sIFsxNi4zLCAtOTUuMTUsIDEuMF0sIFsxNi4zMywgLTk4LjY1LCAxLjBdLCBbMTYuMzMsIC05Ni4zNCwgMS4wXSwgWzE2LjM0LCAtOTcuODksIDEuMF0sIFsxNi4zNiwgLTk4LjI3LCAxLjBdLCBbMTYuMzksIC05NS4xMywgMS4wXSwgWzE2LjQzLCAtOTUuMTUsIDEuMF0sIFsxNi41OCwgLTk4LjU0LCAxLjBdLCBbMTYuNTksIC05OC42NywgMS4wXSwgWzE2LjYzLCAtOTkuMjMsIDEuMF0sIFsxNi42NiwgLTk5LjUsIDEuMF0sIFsxNi42NiwgLTk0LjUyLCAxLjBdLCBbMTYuNywgLTk0LjE0LCAxLjBdLCBbMTYuNzQsIC05OC40NCwgMS4wXSwgWzE2Ljc0LCAtOTQuNTcsIDEuMF0sIFsxNi43NiwgLTk0LjU5LCAxLjBdLCBbMTYuNzYsIC05NC41NCwgMi4wXSwgWzE2Ljc3LCAtOTQuNTQsIDEuMF0sIFsxNi43NywgLTk0LjUxLCAxLjBdLCBbMTYuNzgsIC05NC41NCwgMS4wXSwgWzE2Ljc5LCAtOTQuNTcsIDEuMF0sIFsxNi44LCAtOTQuNTYsIDEuMF0sIFsxNi44MSwgLTk0LjY0LCAxLjBdLCBbMTYuODIsIC05NC40OSwgMS4wXSwgWzE2Ljg0LCAtOTQuNjgsIDEuMF0sIFsxNi44NCwgLTk0LjY3LCAxLjBdLCBbMTYuODQsIC05NC42NSwgMS4wXSwgWzE2Ljg3LCAtOTQuNjIsIDEuMF0sIFsxNi44OCwgLTEwMC4wNywgMS4wXSwgWzE2LjksIC05NS43OSwgMS4wXSwgWzE2LjkyLCAtOTUuMzgsIDEuMF0sIFsxNi45MywgLTk4LjE2LCAxLjBdLCBbMTYuOTQsIC0xMDAuNCwgMS4wXSwgWzE2Ljk1LCAtOTQuMiwgMS4wXSwgWzE2Ljk3LCAtMTAwLjU3LCAxLjBdLCBbMTYuOTgsIC05OS41OCwgMS4wXSwgWzE3LjExLCAtMTAwLjIzLCAxLjBdLCBbMTcuMjIsIC0xMDAuNzgsIDEuMF0sIFsxNy4yNywgLTk1LjM2LCAxLjBdLCBbMTcuMjgsIC0xMDAuNTIsIDEuMF0sIFsxNy40LCAtMTAxLjc1LCAxLjBdLCBbMTcuNCwgLTk0Ljc4LCAxLjBdLCBbMTcuNTQsIC05NC44NCwgMS4wXSwgWzE3LjYzLCAtMTAwLjExLCAxLjBdLCBbMTcuNjQsIC05NC40NiwgMS4wXSwgWzE3Ljk2LCAtOTUuNDUsIDEuMF0sIFsxOC4wMSwgLTEwMy4zLCAxLjBdLCBbMTguMDEsIC05OC4zNywgMS4wXSwgWzE4LjI1LCAtOTcuNjIsIDEuMF0sIFsxOC43NywgLTEwMi44MywgMS4wXSwgWzE4LjkyLCAtOTguNjQsIDEuMF0sIFsxOS4yMywgLTEwNC40NywgMS4wXV0sIFtbMTQuNTUsIC05Mi4zMiwgMS4wXSwgWzE0LjU2LCAtOTMuMzEsIDEuMF0sIFsxNC43MywgLTkzLjc3LCAxLjBdLCBbMTUuMTcsIC05NC43NCwgMS4wXSwgWzE1LjE4LCAtOTQuNjgsIDEuMF0sIFsxNS4zMywgLTkyLjg3LCAxLjBdLCBbMTUuMzYsIC05OC4xMywgMS4wXSwgWzE1LjQsIC05NC43NSwgMS4wXSwgWzE1LjQ0LCAtOTYuODQsIDEuMF0sIFsxNS41LCAtOTYuODcsIDEuMF0sIFsxNS41MSwgLTk1LjI2LCAxLjBdLCBbMTUuNTEsIC05NC4wMSwgMS4wXSwgWzE1LjUyLCAtOTUuMDEsIDEuMF0sIFsxNS41MywgLTk1Ljk1LCAxLjBdLCBbMTUuNTMsIC05NS4xMiwgMS4wXSwgWzE1LjU3LCAtOTYuNzgsIDEuMF0sIFsxNS42NiwgLTk1LjE1LCAxLjBdLCBbMTUuNjgsIC05Ni44MywgMS4wXSwgWzE1LjY4LCAtOTMuNjUsIDEuMF0sIFsxNS43NywgLTk3LjI0LCAxLjBdLCBbMTUuNzgsIC05My45NywgMS4wXSwgWzE1Ljc5LCAtOTQuNTYsIDEuMF0sIFsxNS44MSwgLTkzLjQ0LCAxLjBdLCBbMTUuOSwgLTk1LjIyLCAxLjBdLCBbMTUuOTIsIC05NS4yNCwgMS4wXSwgWzE1LjkzLCAtOTguMjcsIDEuMF0sIFsxNS45NCwgLTk3LjM2LCAxLjBdLCBbMTUuOTYsIC05NC4wOCwgMS4wXSwgWzE2LjAxLCAtOTcuNTgsIDEuMF0sIFsxNi4wMywgLTk0LjQ4LCAxLjBdLCBbMTYuMDYsIC05Ny42MSwgMS4wXSwgWzE2LjA2LCAtOTcuMTUsIDEuMF0sIFsxNi4wOSwgLTk3LjYsIDEuMF0sIFsxNi4xMSwgLTk3LjYyLCAxLjBdLCBbMTYuMTIsIC05Ni45NiwgMS4wXSwgWzE2LjE5LCAtOTUuOTUsIDEuMF0sIFsxNi4yLCAtOTguMTgsIDEuMF0sIFsxNi4yMSwgLTk5LjUzLCAxLjBdLCBbMTYuMjEsIC05NS4xNywgMS4wXSwgWzE2LjIyLCAtOTguMzEsIDEuMF0sIFsxNi4yNCwgLTk4LjEyLCAxLjBdLCBbMTYuMjUsIC05OC4wMywgMS4wXSwgWzE2LjI1LCAtOTcuOTUsIDEuMF0sIFsxNi4yNiwgLTk4LjIzLCAxLjBdLCBbMTYuMjcsIC05OC4xNSwgMS4wXSwgWzE2LjI4LCAtOTguMTUsIDEuMF0sIFsxNi4yOSwgLTk4LjIzLCAxLjBdLCBbMTYuMywgLTk3Ljk0LCAxLjBdLCBbMTYuMywgLTk3Ljg4LCAxLjBdLCBbMTYuMzEsIC05OC4xMiwgMS4wXSwgWzE2LjMxLCAtOTguMDgsIDEuMF0sIFsxNi4zMSwgLTkyLjg3LCAxLjBdLCBbMTYuMzIsIC05OC4yNSwgMS4wXSwgWzE2LjMyLCAtOTguMDEsIDEuMF0sIFsxNi4zOCwgLTk4LjMyLCAxLjBdLCBbMTYuMzksIC05OC45NCwgMS4wXSwgWzE2LjQsIC05NS4xLCAxLjBdLCBbMTYuNDYsIC05OC40NywgMS4wXSwgWzE2LjQ4LCAtOTUuMDUsIDEuMF0sIFsxNi41MSwgLTk4LjQ2LCAxLjBdLCBbMTYuNTEsIC05NS40NCwgMS4wXSwgWzE2LjU5LCAtOTguNTUsIDEuMF0sIFsxNi41OSwgLTkzLjY0LCAxLjBdLCBbMTYuNjIsIC05OC42LCAxLjBdLCBbMTYuNjQsIC05OS4xMiwgMS4wXSwgWzE2LjY2LCAtOTQuNywgMS4wXSwgWzE2LjY3LCAtOTMuODcsIDEuMF0sIFsxNi42OSwgLTk4LjQzLCAxLjBdLCBbMTYuNzEsIC05NS4zNiwgMS4wXSwgWzE2LjczLCAtOTQuMzIsIDEuMF0sIFsxNi43NCwgLTk0LjU1LCAxLjBdLCBbMTYuNzUsIC05NC41NCwgMS4wXSwgWzE2Ljc3LCAtOTQuOTEsIDEuMF0sIFsxNi43OSwgLTEwMC4yNiwgMS4wXSwgWzE2LjgsIC05NC40NCwgMS4wXSwgWzE2LjgxLCAtOTQuNjIsIDEuMF0sIFsxNi44NiwgLTEwMC4yLCAxLjBdLCBbMTYuODYsIC05Ni41NywgMS4wXSwgWzE3LjA2LCAtOTguNDMsIDEuMF0sIFsxNy4wNiwgLTk1LjE0LCAxLjBdLCBbMTcuMTgsIC05My40OSwgMS4wXSwgWzE3LjMsIC05NC4wMiwgMS4wXSwgWzE3LjU1LCAtMTAyLjIxLCAxLjBdLCBbMTcuNTUsIC05NC44NCwgMS4wXSwgWzE3LjY0LCAtMTAwLjY3LCAxLjBdLCBbMTguMDcsIC0xMDMuMzgsIDEuMF0sIFsxOC4xOCwgLTEwNi4xNywgMS4wXSwgWzE4LjI5LCAtMTA1Ljk2LCAxLjBdLCBbMTguMzQsIC0xMDYuMjcsIDEuMF0sIFsxOC40MSwgLTEwMi4yNCwgMS4wXSwgWzE4LjQyLCAtMTAzLjk1LCAxLjBdLCBbMTguNDUsIC0xMDAuMzIsIDEuMF0sIFsxOC41NCwgLTEwMS43MiwgMS4wXSwgWzE5LjIzLCAtMTA0LjI5LCAxLjBdLCBbMzEuMTQsIC0xMTUuNCwgMS4wXSwgWzMxLjE3LCAtMTE1LjM3LCAxLjBdLCBbMzEuODIsIC0xMTUuMDgsIDEuMF1dLCBbWzEzLjY2LCAtOTIuNTMsIDEuMF0sIFsxMy44MywgLTkzLjQxLCAxLjBdLCBbMTMuODUsIC05Mi42OCwgMS4wXSwgWzEzLjg3LCAtOTMuMzIsIDEuMF0sIFsxMy44OCwgLTkzLjQxLCAxLjBdLCBbMTMuODksIC05My4zOCwgMS4wXSwgWzEzLjkxLCAtOTMuNDUsIDEuMF0sIFsxNC40NSwgLTkyLjI5LCAxLjBdLCBbMTQuNTMsIC05Mi4yLCAxLjBdLCBbMTQuNjYsIC05My4xMywgMS4wXSwgWzE0Ljc3LCAtOTQuMTIsIDEuMF0sIFsxNS4wNSwgLTkyLjksIDEuMF0sIFsxNS4wOSwgLTk0LjIsIDEuMF0sIFsxNS4xOSwgLTk0LjM4LCAxLjBdLCBbMTUuMTksIC05NC4zMiwgMS4wXSwgWzE1LjIxLCAtOTQuNjgsIDEuMF0sIFsxNS4yMiwgLTk0Ljg1LCAxLjBdLCBbMTUuMjMsIC05NC42MSwgMS4wXSwgWzE1LjI0LCAtOTQuNjMsIDEuMF0sIFsxNS4yNiwgLTk0LjgzLCAxLjBdLCBbMTUuMjcsIC05NC42OSwgMS4wXSwgWzE1LjI4LCAtOTQuODcsIDEuMF0sIFsxNS4zLCAtOTUuNDYsIDEuMF0sIFsxNS4zNCwgLTk0Ljk2LCAxLjBdLCBbMTUuMzYsIC05NC43NiwgMS4wXSwgWzE1LjM2LCAtOTQuNTUsIDEuMF0sIFsxNS4zOCwgLTk0Ljc4LCAxLjBdLCBbMTUuNDMsIC05NC45NCwgMS4wXSwgWzE1LjQ3LCAtOTcuNSwgMS4wXSwgWzE1LjQ4LCAtOTYuNSwgMS4wXSwgWzE1LjUsIC05Ny40OCwgMS4wXSwgWzE1LjUyLCAtOTYuNTUsIDEuMF0sIFsxNS41MywgLTk2LjQ4LCAxLjBdLCBbMTUuNTUsIC05Ni41MiwgMS4wXSwgWzE1LjU5LCAtOTYuNSwgMS4wXSwgWzE1LjYxLCAtOTUuMDgsIDEuMF0sIFsxNS43LCAtOTUuMDgsIDEuMF0sIFsxNS43MywgLTk1LjAyLCAxLjBdLCBbMTUuNzQsIC05My45NiwgMS4wXSwgWzE1Ljc1LCAtOTYuMzEsIDEuMF0sIFsxNS44NiwgLTk1LjIsIDEuMF0sIFsxNS45MSwgLTk4LjE0LCAxLjBdLCBbMTUuOTYsIC05Ny4yNywgMS4wXSwgWzE1Ljk3LCAtOTcuODYsIDEuMF0sIFsxNS45OCwgLTk5LjAzLCAxLjBdLCBbMTUuOTgsIC05OC42OCwgMS4wXSwgWzE1Ljk4LCAtOTcuOTMsIDEuMF0sIFsxNS45OSwgLTk4LjY2LCAxLjBdLCBbMTYuMCwgLTk4LjA4LCAxLjBdLCBbMTYuMDIsIC05OC40MSwgMS4wXSwgWzE2LjA0LCAtOTcuNjYsIDEuMF0sIFsxNi4wNSwgLTk4LjY1LCAxLjBdLCBbMTYuMDUsIC05NC44MywgMS4wXSwgWzE2LjA4LCAtOTcuMDgsIDEuMF0sIFsxNi4xLCAtOTcuNzgsIDEuMF0sIFsxNi4xMSwgLTk3Ljg1LCAxLjBdLCBbMTYuMTIsIC05Ny41OSwgMS4wXSwgWzE2LjEzLCAtOTUuMzcsIDEuMF0sIFsxNi4xNiwgLTk3LjUyLCAxLjBdLCBbMTYuMiwgLTk3LjU4LCAxLjBdLCBbMTYuMjIsIC05OC4wOCwgMS4wXSwgWzE2LjI2LCAtOTguMTEsIDEuMF0sIFsxNi4yNiwgLTk4LjEsIDEuMF0sIFsxNi4yNywgLTk4LjExLCAxLjBdLCBbMTYuMjgsIC05OC4wLCAxLjBdLCBbMTYuMywgLTk3LjksIDEuMF0sIFsxNi4zMSwgLTk4LjI3LCAxLjBdLCBbMTYuMzEsIC05OC4yNSwgMS4wXSwgWzE2LjMxLCAtOTcuODYsIDEuMF0sIFsxNi4zMiwgLTk4LjMzLCAxLjBdLCBbMTYuMzIsIC05OC4yNywgMS4wXSwgWzE2LjMyLCAtOTguMDEsIDEuMF0sIFsxNi4zNCwgLTk4Ljk2LCAxLjBdLCBbMTYuMzUsIC05OC4wNSwgMS4wXSwgWzE2LjM2LCAtOTguMjcsIDEuMF0sIFsxNi4zOSwgLTk4LjQsIDEuMF0sIFsxNi4zOSwgLTk4LjMxLCAxLjBdLCBbMTYuNCwgLTk4LjIzLCAxLjBdLCBbMTYuNDIsIC05NC41OCwgMS4wXSwgWzE2LjQ5LCAtOTguNDgsIDEuMF0sIFsxNi41NSwgLTk4LjczLCAxLjBdLCBbMTYuNTYsIC05OC40NywgMS4wXSwgWzE2LjU4LCAtOTQuNDksIDEuMF0sIFsxNi42MSwgLTk4LjEyLCAxLjBdLCBbMTYuNjIsIC05NC45NywgMS4wXSwgWzE2LjYyLCAtOTMuODMsIDEuMF0sIFsxNi42NiwgLTk1LjA5LCAxLjBdLCBbMTYuNjgsIC05My44LCAxLjBdLCBbMTYuNjksIC05NC44NSwgMS4wXSwgWzE2LjczLCAtOTQuMzEsIDEuMF0sIFsxNi44NCwgLTk1LjMzLCAxLjBdLCBbMTYuODgsIC05NC41OCwgMS4wXSwgWzE2Ljk1LCAtOTUuNDEsIDEuMF0sIFsxNi45NSwgLTkzLjkxLCAxLjBdLCBbMTYuOTYsIC05NC4xLCAxLjBdLCBbMTYuOTcsIC05My43NCwgMS4wXSwgWzE2Ljk5LCAtOTkuNSwgMS4wXSwgWzE3LjAyLCAtOTUuOTcsIDEuMF0sIFsxNy4wMywgLTk0Ljk4LCAxLjBdLCBbMTcuMDQsIC05OS45LCAxLjBdLCBbMTcuMDcsIC0xMDEuMTgsIDEuMF0sIFsxNy4wNywgLTEwMC4xNSwgMS4wXSwgWzE3LjA5LCAtOTguMTIsIDEuMF0sIFsxNy4xLCAtMTAwLjQxLCAxLjBdLCBbMTcuMTYsIC05NC42NiwgMS4wXSwgWzE3LjE3LCAtOTkuODksIDEuMF0sIFsxNy4yLCAtOTQuOSwgMS4wXSwgWzE3LjM3LCAtOTQuODcsIDEuMF0sIFsxNy40NiwgLTk1LjIyLCAxLjBdLCBbMTcuNTQsIC05NC43NiwgMS4wXSwgWzE3LjYsIC0xMDQuMDMsIDEuMF0sIFsxNy42MywgLTEwMS4zNCwgMS4wXSwgWzE3Ljc1LCAtMTAyLjgsIDEuMF0sIFsxNy43NywgLTEwMS4yOCwgMS4wXSwgWzE4LjAzLCAtOTguMDQsIDEuMF0sIFsxOC4wNCwgLTEwMy4zMywgMS4wXSwgWzE4LjA3LCAtMTAzLjI0LCAxLjBdLCBbMTguMTQsIC05OS45OSwgMS4wXSwgWzE4LjE1LCAtMTAxLjUsIDEuMF0sIFsxOC4yMywgLTEwMC4wNSwgMS4wXSwgWzE4LjY5LCAtMTAxLjQ3LCAxLjBdLCBbMTguOTMsIC0xMDUuMzgsIDEuMF0sIFsxOS4yMiwgLTEwNC45OCwgMS4wXSwgWzE5LjMyLCAtMTA0LjM1LCAxLjBdLCBbMTkuNDcsIC0xMDQuMzksIDEuMF0sIFsyMC4zMiwgLTEwNS40LCAxLjBdLCBbMjEuNDIsIC0xMDYuMjIsIDEuMF0sIFsyOC43MywgLTExNy45NiwgMS4wXV0sIFtbMTMuNzMsIC05Mi40MSwgMS4wXSwgWzE0LjI4LCAtOTQuMzYsIDEuMF0sIFsxNC41LCAtOTQuNDMsIDEuMF0sIFsxNC41MiwgLTkyLjY4LCAxLjBdLCBbMTQuNTYsIC05Mi41MywgMS4wXSwgWzE0LjYyLCAtOTQuMzgsIDEuMF0sIFsxNC42NCwgLTkyLjU2LCAxLjBdLCBbMTQuNjUsIC05My4xNSwgMS4wXSwgWzE0LjY1LCAtOTIuNywgMS4wXSwgWzE0Ljc0LCAtOTQuNDcsIDEuMF0sIFsxNC44NSwgLTkyLjQ0LCAxLjBdLCBbMTQuOTQsIC05My45OSwgMS4wXSwgWzE1LjAxLCAtOTIuMTYsIDEuMF0sIFsxNS4xMSwgLTk0LjIyLCAxLjBdLCBbMTUuMTksIC05NC44NCwgMS4wXSwgWzE1LjI3LCAtOTQuNzYsIDEuMF0sIFsxNS4zMSwgLTk0LjcyLCAxLjBdLCBbMTUuMzEsIC05NC41MSwgMS4wXSwgWzE1LjM5LCAtOTQuODIsIDEuMF0sIFsxNS40MywgLTk0Ljc3LCAxLjBdLCBbMTUuNDcsIC05OC42MSwgMS4wXSwgWzE1LjUzLCAtOTQuOTMsIDEuMF0sIFsxNS41NiwgLTk1LjY3LCAxLjBdLCBbMTUuNTgsIC05NS4wNiwgMS4wXSwgWzE1LjYxLCAtOTYuNTMsIDEuMF0sIFsxNS42MiwgLTk2LjE0LCAxLjBdLCBbMTUuNjksIC05NS40NCwgMS4wXSwgWzE1LjcsIC05My42NiwgMS4wXSwgWzE1Ljc1LCAtOTUuNzEsIDEuMF0sIFsxNS44MSwgLTkzLjg2LCAxLjBdLCBbMTUuODIsIC05NS4yOCwgMS4wXSwgWzE1Ljg3LCAtOTQuMTMsIDEuMF0sIFsxNS44OSwgLTk4LjIyLCAxLjBdLCBbMTUuOTEsIC05Ny44OSwgMS4wXSwgWzE1LjkxLCAtOTcuOCwgMS4wXSwgWzE1LjkxLCAtOTYuOTQsIDEuMF0sIFsxNS45MSwgLTk1LjA1LCAxLjBdLCBbMTUuOTIsIC05NS4yNiwgMS4wXSwgWzE1LjkzLCAtOTguMTMsIDEuMF0sIFsxNS45NCwgLTk3LjgyLCAxLjBdLCBbMTUuOTgsIC05Ni4wMywgMS4wXSwgWzE1Ljk4LCAtOTUuMjcsIDEuMF0sIFsxNS45OSwgLTk5LjE4LCAxLjBdLCBbMTYuMCwgLTk2LjkyLCAxLjBdLCBbMTYuMDEsIC05OS40OSwgMS4wXSwgWzE2LjAyLCAtOTcuNTYsIDEuMF0sIFsxNi4wMiwgLTk3LjUxLCAxLjBdLCBbMTYuMDQsIC05OC41NywgMS4wXSwgWzE2LjA1LCAtOTcuNTcsIDEuMF0sIFsxNi4wNiwgLTk4LjY0LCAxLjBdLCBbMTYuMDgsIC05Ni44OSwgMS4wXSwgWzE2LjEsIC05Ny41OSwgMS4wXSwgWzE2LjExLCAtOTcuNDcsIDEuMF0sIFsxNi4xMSwgLTk2LjQxLCAxLjBdLCBbMTYuMTYsIC05Ny4yOSwgMS4wXSwgWzE2LjIsIC05OC4wMSwgMS4wXSwgWzE2LjIsIC05Ny44NiwgMS4wXSwgWzE2LjIsIC05Ny41OCwgMS4wXSwgWzE2LjIyLCAtOTguMDUsIDEuMF0sIFsxNi4yMiwgLTk1LjI0LCAxLjBdLCBbMTYuMjMsIC05Ny4yNywgMS4wXSwgWzE2LjI1LCAtOTguMjYsIDEuMF0sIFsxNi4yNiwgLTk4LjEzLCAxLjBdLCBbMTYuMjYsIC05Ny43MiwgMS4wXSwgWzE2LjI3LCAtOTguMTMsIDEuMF0sIFsxNi4yNywgLTk4LjEyLCAxLjBdLCBbMTYuMjcsIC05OC4wMywgMS4wXSwgWzE2LjI3LCAtOTguMDEsIDEuMF0sIFsxNi4yOCwgLTk4LjA5LCAxLjBdLCBbMTYuMjgsIC05OC4wNywgMS4wXSwgWzE2LjI4LCAtOTcuODYsIDEuMF0sIFsxNi4yOSwgLTk4LjAsIDEuMF0sIFsxNi4yOSwgLTk3Ljk3LCAxLjBdLCBbMTYuMywgLTk4LjE3LCAxLjBdLCBbMTYuMywgLTk4LjExLCAxLjBdLCBbMTYuMywgLTk3Ljk5LCAxLjBdLCBbMTYuMywgLTk3Ljg4LCAxLjBdLCBbMTYuMzEsIC05OC4xMSwgMS4wXSwgWzE2LjMxLCAtOTcuOTUsIDEuMF0sIFsxNi4zMywgLTk4LjI5LCAxLjBdLCBbMTYuMzMsIC05Ny45NiwgMS4wXSwgWzE2LjM0LCAtOTguMjksIDEuMF0sIFsxNi4zNCwgLTk4LjE4LCAxLjBdLCBbMTYuMzQsIC05Ny45NSwgMS4wXSwgWzE2LjM1LCAtOTQuMDQsIDEuMF0sIFsxNi4zNiwgLTEwMC44OSwgMS4wXSwgWzE2LjM2LCAtOTcuODQsIDEuMF0sIFsxNi4zOCwgLTk1LjI5LCAxLjBdLCBbMTYuNDMsIC05OC40MSwgMS4wXSwgWzE2LjQ0LCAtOTMuNTgsIDEuMF0sIFsxNi40NiwgLTk0LjU3LCAxLjBdLCBbMTYuNDcsIC05OC40MSwgMS4wXSwgWzE2LjQ4LCAtOTUuMDgsIDEuMF0sIFsxNi41LCAtOTUuMTQsIDEuMF0sIFsxNi41MSwgLTk4LjYxLCAxLjBdLCBbMTYuNTEsIC05NC41MSwgMS4wXSwgWzE2LjUyLCAtOTguNTMsIDEuMF0sIFsxNi41MiwgLTk4LjQ5LCAxLjBdLCBbMTYuNTMsIC05OC40LCAxLjBdLCBbMTYuNTQsIC05Ni42NywgMS4wXSwgWzE2LjU1LCAtOTUuMzksIDEuMF0sIFsxNi41NywgLTk4LjQ5LCAxLjBdLCBbMTYuNTgsIC05OC41OSwgMS4wXSwgWzE2LjYxLCAtOTYuMjMsIDEuMF0sIFsxNi42MywgLTk0Ljg4LCAxLjBdLCBbMTYuNjQsIC05OC44NCwgMS4wXSwgWzE2LjY1LCAtOTQuNTQsIDEuMF0sIFsxNi42NywgLTk0Ljc2LCAxLjBdLCBbMTYuNjgsIC05NC4wLCAxLjBdLCBbMTYuNywgLTk0LjM1LCAxLjBdLCBbMTYuNzQsIC05NC42OSwgMS4wXSwgWzE2Ljc5LCAtOTkuNjYsIDEuMF0sIFsxNi44NCwgLTk0LjgzLCAxLjBdLCBbMTYuODgsIC05NC44MSwgMS4wXSwgWzE2LjkxLCAtOTUuMzYsIDEuMF0sIFsxNi45OCwgLTEwMi40MywgMS4wXSwgWzE3LjAsIC05OS43LCAxLjBdLCBbMTcuMDQsIC05OS45OSwgMS4wXSwgWzE3LjE0LCAtMTAwLjMsIDEuMF0sIFsxNy4yMSwgLTk0LjQ5LCAxLjBdLCBbMTcuMywgLTEwMC43MSwgMS4wXSwgWzE3LjMsIC05NC4zNiwgMS4wXSwgWzE3LjMxLCAtOTQuOTYsIDEuMF0sIFsxNy4zNSwgLTEwMC44MywgMS4wXSwgWzE3LjM4LCAtMTAxLjEyLCAxLjBdLCBbMTcuMzgsIC05NS4zOSwgMS4wXSwgWzE3LjM4LCAtOTUuMDcsIDEuMF0sIFsxNy4zOCwgLTk0LjQ4LCAxLjBdLCBbMTcuNTUsIC05NS43MiwgMS4wXSwgWzE3LjkxLCAtMTAxLjI1LCAxLjBdLCBbMTcuOTIsIC0xMDAuNDgsIDEuMF0sIFsxOC4wMywgLTEwMS45NiwgMS4wXSwgWzE4LjExLCAtMTAzLjQyLCAxLjBdLCBbMTguMTcsIC0xMDMuNSwgMS4wXSwgWzE4LjIsIC0xMDYuMTEsIDEuMF0sIFsxOC4yMSwgLTk3Ljk1LCAxLjBdLCBbMTguMjYsIC0xMDAuOSwgMS4wXSwgWzE4LjMsIC05OC4wNywgMS4wXSwgWzE4LjUzLCAtMTAzLjYxLCAxLjBdLCBbMTguNjIsIC0xMDEuMzcsIDEuMF0sIFsxOC45OSwgLTEwNC45NSwgMS4wXSwgWzE5LjEzLCAtMTA0LjMzLCAxLjBdLCBbMTkuMjIsIC0xMDQuOTgsIDEuMF0sIFsxOS41MywgLTEwNC4wOCwgMS4wXSwgWzE5LjY2LCAtMTAyLjQyLCAxLjBdLCBbMTkuNjYsIC0xMDIuMzUsIDEuMF0sIFsxOS44MiwgLTEwMy42OSwgMS4wXSwgWzIwLjE3LCAtMTA0LjI4LCAxLjBdLCBbMjMuOTUsIC0xMDguNywgMS4wXSwgWzI3LjY5LCAtMTExLjcsIDEuMF0sIFsyOC4wNiwgLTExMi4yOSwgMS4wXSwgWzI4LjY5LCAtMTA4Ljk0LCAxLjBdLCBbMzAuNjMsIC0xMTQuMDUsIDEuMF0sIFszMC42NCwgLTExNC4wLCAxLjBdLCBbMzAuNjgsIC0xMTQuMDUsIDEuMF0sIFszMC43LCAtMTE0LjMsIDEuMF0sIFszMC44MiwgLTExNC4yMiwgNC4wXSwgWzMwLjk5LCAtMTE0LjEzLCAxLjBdLCBbMzEuMDksIC0xMTUuNSwgMS4wXSwgWzMxLjE2LCAtMTE1LjM3LCAxLjBdLCBbMzEuNjgsIC0xMTYuMjEsIDEuMF0sIFszMS43OCwgLTExNi4yMywgMS4wXSwgWzMxLjgzLCAtMTE0Ljc2LCAxLjBdLCBbMzIuMjUsIC0xMTUuMzIsIDEuMF0sIFszMi4yNiwgLTExNS4yLCAxLjBdXSwgW1sxMy42NywgLTkyLjM4LCAxLjBdLCBbMTQuMDYsIC05Mi4zNywgMS4wXSwgWzE0Ljk1LCAtOTQuMjEsIDEuMF0sIFsxNC45OCwgLTkzLjk5LCAxLjBdLCBbMTUuMSwgLTk0LjQsIDEuMF0sIFsxNS4xMSwgLTkzLjEzLCAxLjBdLCBbMTUuMTUsIC05NC42NCwgMS4wXSwgWzE1LjE1LCAtOTQuNTQsIDEuMF0sIFsxNS4xOSwgLTkyLjk5LCAxLjBdLCBbMTUuMTksIC05Mi44OCwgMS4wXSwgWzE1LjMyLCAtOTMuOCwgMS4wXSwgWzE1LjUsIC05My42OCwgMS4wXSwgWzE1LjUxLCAtOTUuMSwgMS4wXSwgWzE1LjY0LCAtOTQuNzEsIDEuMF0sIFsxNS42NiwgLTk0LjcxLCAxLjBdLCBbMTUuNjksIC05NS4yLCAxLjBdLCBbMTUuNzIsIC05My43MSwgMS4wXSwgWzE1Ljc3LCAtOTQuOTQsIDEuMF0sIFsxNS44MSwgLTk1LjEsIDEuMF0sIFsxNS44MSwgLTkzLjg0LCAxLjBdLCBbMTUuODUsIC05OC40MiwgMS4wXSwgWzE1Ljg1LCAtOTMuOTEsIDEuMF0sIFsxNS44NiwgLTk1Ljc3LCAxLjBdLCBbMTUuODcsIC05Ny4yNSwgMS4wXSwgWzE1Ljg3LCAtOTcuMTgsIDEuMF0sIFsxNS44NywgLTk2LjM1LCAxLjBdLCBbMTUuODcsIC05NS45NSwgMS4wXSwgWzE1LjkyLCAtOTUuNjQsIDEuMF0sIFsxNS45MiwgLTk0LjM2LCAxLjBdLCBbMTUuOTUsIC05NS4zMSwgMS4wXSwgWzE1Ljk3LCAtOTUuMTIsIDEuMF0sIFsxNS45OCwgLTk3LjYzLCAxLjBdLCBbMTYuMDMsIC05Ny42NywgMS4wXSwgWzE2LjAzLCAtOTcuNjEsIDEuMF0sIFsxNi4wMywgLTk3LjYsIDEuMF0sIFsxNi4wMywgLTk3LjMyLCAxLjBdLCBbMTYuMDMsIC05Ny4zLCAxLjBdLCBbMTYuMDQsIC05OC42NywgMS4wXSwgWzE2LjA0LCAtOTcuNSwgMS4wXSwgWzE2LjEsIC05Ni45NywgMS4wXSwgWzE2LjExLCAtOTguMzMsIDEuMF0sIFsxNi4xMywgLTk4LjM3LCAxLjBdLCBbMTYuMTMsIC05NS42OCwgMS4wXSwgWzE2LjE3LCAtOTcuNTUsIDEuMF0sIFsxNi4yNSwgLTk4LjAyLCAxLjBdLCBbMTYuMjYsIC05OC4xLCAxLjBdLCBbMTYuMjYsIC05OC4wOSwgMS4wXSwgWzE2LjI3LCAtOTkuNTUsIDEuMF0sIFsxNi4yNywgLTk4LjE0LCAxLjBdLCBbMTYuMjcsIC05OC4xLCAxLjBdLCBbMTYuMjcsIC05OC4wNCwgMS4wXSwgWzE2LjI4LCAtOTguMiwgMS4wXSwgWzE2LjMsIC05OC4wNywgMS4wXSwgWzE2LjM1LCAtOTcuODIsIDEuMF0sIFsxNi4zNiwgLTk3Ljg2LCAxLjBdLCBbMTYuMzksIC05OS40NSwgMS4wXSwgWzE2LjQsIC05OC4yNiwgMS4wXSwgWzE2LjQsIC05NC45MiwgMS4wXSwgWzE2LjQyLCAtOTguNjQsIDEuMF0sIFsxNi40NCwgLTk1Ljc5LCAxLjBdLCBbMTYuNDYsIC05NC41MSwgMS4wXSwgWzE2LjQ4LCAtOTQuNjEsIDEuMF0sIFsxNi41MSwgLTk5LjM1LCAxLjBdLCBbMTYuNTMsIC05OS4yMywgMS4wXSwgWzE2LjU0LCAtOTguNDksIDEuMF0sIFsxNi41NSwgLTk0LjYyLCAxLjBdLCBbMTYuNTYsIC05NS4xNSwgMS4wXSwgWzE2LjYsIC05NC40OCwgMS4wXSwgWzE2LjY1LCAtOTQuNDksIDEuMF0sIFsxNi43NSwgLTk0LjE2LCAxLjBdLCBbMTYuOTMsIC05OC45LCAxLjBdLCBbMTYuOTUsIC05NS4xMywgMS4wXSwgWzE3LjA2LCAtOTUuMzksIDEuMF0sIFsxNy4wNywgLTk5LjYxLCAxLjBdLCBbMTcuMTQsIC05Ni4wMiwgMS4wXSwgWzE3LjE0LCAtOTQuNywgMS4wXSwgWzE3LjE3LCAtOTkuOTMsIDEuMF0sIFsxNy4zNywgLTk0Ljc0LCAxLjBdLCBbMTcuNjcsIC05NC42NiwgMS4wXSwgWzE3Ljg0LCAtOTguNDksIDEuMF0sIFsxNy45NSwgLTk3LjM4LCAxLjBdLCBbMTguMDEsIC05OS4yOSwgMS4wXSwgWzE4LjA2LCAtMTAzLjM1LCAxLjBdLCBbMTguMTgsIC0xMDAuNjIsIDEuMF0sIFsxOC4zNCwgLTEwMy4yNSwgMS4wXSwgWzE4LjM1LCAtMTAzLjg0LCAxLjBdLCBbMTkuMTQsIC0xMDQuMjgsIDEuMF0sIFsxOS4yNSwgLTEwNC4yNCwgMS4wXSwgWzE5LjQ5LCAtMTA0LjI2LCAxLjBdLCBbMjguMDIsIC0xMTIuMTksIDEuMF0sIFsyOC4wNiwgLTExMi4zLCAxLjBdLCBbMzAuNTgsIC0xMTQuMTEsIDEuMF0sIFszMS4xOCwgLTExNi41OCwgMS4wXSwgWzMxLjMxLCAtMTE2LjA0LCAxLjBdXSwgW1sxMy42MywgLTkzLjIyLCAxLjBdLCBbMTMuNjMsIC05My4xNCwgMS4wXSwgWzEzLjY1LCAtOTMuMDksIDEuMF0sIFsxMy42NywgLTkzLjA2LCAxLjBdLCBbMTMuNjgsIC05My4xOCwgMS4wXSwgWzEzLjY5LCAtOTMuMSwgMS4wXSwgWzEzLjgsIC05My4xOCwgMS4wXSwgWzEzLjkxLCAtOTMuNDEsIDEuMF0sIFsxMy45MywgLTkzLjUyLCAxLjBdLCBbMTMuOTgsIC05My4yMSwgMS4wXSwgWzE0LjEyLCAtOTIuMjEsIDEuMF0sIFsxNC4xMywgLTkyLjk1LCAxLjBdLCBbMTQuMiwgLTkzLjA4LCAxLjBdLCBbMTQuNzUsIC05My40NCwgMS4wXSwgWzE0Ljc2LCAtOTMuNzIsIDEuMF0sIFsxNC44NSwgLTkyLjE4LCAxLjBdLCBbMTQuOTEsIC05Mi43MywgMS4wXSwgWzE0LjkyLCAtOTMuNjcsIDEuMF0sIFsxNC45MiwgLTkyLjksIDEuMF0sIFsxNC45MywgLTk0LjE2LCAxLjBdLCBbMTQuOTUsIC05My4xNywgMS4wXSwgWzE1LjA1LCAtOTMuMSwgMS4wXSwgWzE1LjEzLCAtOTIuNjksIDEuMF0sIFsxNS4xNiwgLTk0LjYsIDEuMF0sIFsxNS4yMiwgLTk3LjAxLCAxLjBdLCBbMTUuMjIsIC05NC42NCwgMS4wXSwgWzE1LjI1LCAtOTIuNTcsIDEuMF0sIFsxNS4yNywgLTk0LjgxLCAxLjBdLCBbMTUuMywgLTk0Ljg0LCAxLjBdLCBbMTUuMzUsIC05NC42NCwgMS4wXSwgWzE1LjM3LCAtOTQuNzcsIDEuMF0sIFsxNS4zOSwgLTkyLjk2LCAxLjBdLCBbMTUuNDEsIC05NC43MiwgMS4wXSwgWzE1LjQzLCAtOTQuODYsIDEuMF0sIFsxNS40NCwgLTk0LjcsIDEuMF0sIFsxNS40NCwgLTkzLjk0LCAxLjBdLCBbMTUuNDUsIC05NC43NSwgMS4wXSwgWzE1LjQ1LCAtOTMuNjcsIDEuMF0sIFsxNS40NiwgLTk0LjksIDEuMF0sIFsxNS40OCwgLTk0LjksIDEuMF0sIFsxNS40OSwgLTk0LjgzLCAxLjBdLCBbMTUuNDksIC05NC42MywgMS4wXSwgWzE1LjUzLCAtOTMuNjMsIDEuMF0sIFsxNS41NiwgLTkyLjMsIDEuMF0sIFsxNS41OCwgLTk0LjgzLCAxLjBdLCBbMTUuNTksIC05NS4xLCAxLjBdLCBbMTUuNiwgLTkzLjMsIDEuMF0sIFsxNS42MSwgLTk3LjkxLCAxLjBdLCBbMTUuNjIsIC05My43OCwgMS4wXSwgWzE1LjY0LCAtOTQuNzEsIDEuMF0sIFsxNS42NiwgLTk1LjYsIDEuMF0sIFsxNS42NiwgLTk1LjA1LCAxLjBdLCBbMTUuNjksIC05NS4xNiwgMS4wXSwgWzE1LjcsIC05Ni4xMywgMS4wXSwgWzE1LjcyLCAtOTIuNTQsIDEuMF0sIFsxNS43MywgLTk1LjczLCAxLjBdLCBbMTUuNzQsIC05Ny4xMywgMS4wXSwgWzE1Ljc0LCAtOTQuOTUsIDEuMF0sIFsxNS43NSwgLTk0LjA0LCAxLjBdLCBbMTUuODEsIC05Mi4zMSwgMS4wXSwgWzE1LjgzLCAtOTUuNjYsIDEuMF0sIFsxNS44NCwgLTk1LjEzLCAxLjBdLCBbMTUuODQsIC05My45NiwgMS4wXSwgWzE1Ljg1LCAtOTguNjcsIDEuMF0sIFsxNS44OCwgLTk4LjQ5LCAxLjBdLCBbMTUuODgsIC05NS4wNywgMS4wXSwgWzE1LjksIC05OC4zOCwgMS4wXSwgWzE1LjkzLCAtOTcuNzEsIDEuMF0sIFsxNS45NCwgLTk5LjM3LCAxLjBdLCBbMTUuOTQsIC05NS4xOSwgMS4wXSwgWzE1Ljk1LCAtOTcuNjcsIDEuMF0sIFsxNS45NywgLTk4LjYzLCAxLjBdLCBbMTUuOTgsIC05OC4yOSwgMS4wXSwgWzE2LjAyLCAtOTguMjksIDEuMF0sIFsxNi4wMiwgLTk3LjM2LCAxLjBdLCBbMTYuMDIsIC05Ny4wNywgMS4wXSwgWzE2LjAzLCAtOTguMzgsIDEuMF0sIFsxNi4wMywgLTk3LjY2LCAxLjBdLCBbMTYuMDQsIC05Ny42NSwgMS4wXSwgWzE2LjA2LCAtOTcuMTgsIDEuMF0sIFsxNi4wOCwgLTk3LjExLCAxLjBdLCBbMTYuMDgsIC05NC45MiwgMS4wXSwgWzE2LjEzLCAtOTcuNDgsIDEuMF0sIFsxNi4xNCwgLTk3LjQ3LCAxLjBdLCBbMTYuMTUsIC05Ny41NCwgMS4wXSwgWzE2LjE1LCAtOTcuNSwgMS4wXSwgWzE2LjE2LCAtOTYuNTksIDEuMF0sIFsxNi4xOSwgLTEwMC4xMywgMS4wXSwgWzE2LjIsIC05OC4xLCAxLjBdLCBbMTYuMjEsIC05OC4xMSwgMS4wXSwgWzE2LjIyLCAtOTguMDcsIDEuMF0sIFsxNi4yNCwgLTk4LjA5LCAxLjBdLCBbMTYuMjgsIC05OC4zLCAxLjBdLCBbMTYuMjgsIC05OC4xMSwgMS4wXSwgWzE2LjI4LCAtOTguMDMsIDEuMF0sIFsxNi4zLCAtOTguMjcsIDEuMF0sIFsxNi4zLCAtOTcuOTEsIDEuMF0sIFsxNi4zNCwgLTk4LjI3LCAxLjBdLCBbMTYuMzUsIC05NS4wOCwgMS4wXSwgWzE2LjM2LCAtOTQuNTksIDEuMF0sIFsxNi4zNywgLTk0Ljc5LCAxLjBdLCBbMTYuMzgsIC05NS4wNSwgMS4wXSwgWzE2LjM5LCAtOTYuNDIsIDEuMF0sIFsxNi40MiwgLTkzLjUzLCAxLjBdLCBbMTYuNDQsIC05OC40OCwgMS4wXSwgWzE2LjQ0LCAtOTQuODQsIDEuMF0sIFsxNi40NSwgLTk1LjE2LCAxLjBdLCBbMTYuNDYsIC05OC4wNiwgMS4wXSwgWzE2LjQ2LCAtOTcuODcsIDEuMF0sIFsxNi40OSwgLTk1LjI2LCAxLjBdLCBbMTYuNSwgLTEwMC41NSwgMS4wXSwgWzE2LjUxLCAtOTguNDUsIDEuMF0sIFsxNi41MiwgLTk0Ljk2LCAxLjBdLCBbMTYuNTMsIC05OC41MiwgMS4wXSwgWzE2LjU1LCAtOTkuMjgsIDEuMF0sIFsxNi41NSwgLTk4LjQ4LCAxLjBdLCBbMTYuNTcsIC05OC40OCwgMS4wXSwgWzE2LjU5LCAtOTguNjMsIDEuMF0sIFsxNi41OSwgLTk1LjEsIDEuMF0sIFsxNi41OSwgLTk0LjY2LCAxLjBdLCBbMTYuNjQsIC05OS4yOCwgMS4wXSwgWzE2LjY0LCAtOTguNDUsIDEuMF0sIFsxNi42NiwgLTk0LjU3LCAxLjBdLCBbMTYuNjksIC05OS4zNCwgMS4wXSwgWzE2Ljc2LCAtMTAxLjc4LCAxLjBdLCBbMTYuNzYsIC05OS42OCwgMS4wXSwgWzE2Ljc5LCAtOTguOTgsIDEuMF0sIFsxNi43OSwgLTk4LjU1LCAxLjBdLCBbMTYuODIsIC05OC44MSwgMS4wXSwgWzE2LjgyLCAtOTguMTcsIDEuMF0sIFsxNi44MiwgLTk0LjA4LCAxLjBdLCBbMTYuODIsIC05NC4wLCAxLjBdLCBbMTYuODMsIC0xMDAuMDQsIDEuMF0sIFsxNi44NCwgLTk5LjcyLCAxLjBdLCBbMTYuODYsIC0xMDAuMTgsIDEuMF0sIFsxNi44OCwgLTk4LjQ4LCAxLjBdLCBbMTYuOTIsIC0xMDAuMTcsIDEuMF0sIFsxNi45MywgLTk5LjA2LCAxLjBdLCBbMTYuOTUsIC05NS4zNywgMS4wXSwgWzE2Ljk2LCAtOTcuNTUsIDEuMF0sIFsxNi45OCwgLTk5Ljg3LCAxLjBdLCBbMTYuOTksIC05OS41LCAxLjBdLCBbMTYuOTksIC05NC4yOCwgMS4wXSwgWzE3LjAyLCAtMTAwLjQ0LCAxLjBdLCBbMTcuMDUsIC0xMDAuNjQsIDEuMF0sIFsxNy4wOSwgLTk5LjUxLCAxLjBdLCBbMTcuMSwgLTEwMC4yLCAxLjBdLCBbMTcuMSwgLTk0LjkyLCAxLjBdLCBbMTcuMTEsIC05OS4yNSwgMS4wXSwgWzE3LjE0LCAtMTAwLjYyLCAxLjBdLCBbMTcuMTYsIC05NS4yOCwgMS4wXSwgWzE3LjE5LCAtOTQuNDcsIDEuMF0sIFsxNy4yLCAtOTUuMjEsIDEuMF0sIFsxNy4yLCAtOTQuOTUsIDEuMF0sIFsxNy4yNCwgLTEwMS41NCwgMS4wXSwgWzE3LjI0LCAtOTcuMTYsIDEuMF0sIFsxNy4yNSwgLTk0LjYsIDEuMF0sIFsxNy4zMywgLTk0LjcsIDEuMF0sIFsxNy40MiwgLTEwMS43NywgMS4wXSwgWzE3LjQ5LCAtMTAyLjAzLCAxLjBdLCBbMTcuNiwgLTk0LjUzLCAxLjBdLCBbMTcuNzMsIC05NC43OCwgMS4wXSwgWzE3LjksIC0xMDAuMDIsIDEuMF0sIFsxNy45LCAtOTUuMjUsIDEuMF0sIFsxNy45MSwgLTk4Ljg1LCAxLjBdLCBbMTcuOTcsIC05OC45NCwgMS4wXSwgWzE3Ljk4LCAtMTAxLjUyLCAxLjBdLCBbMTguMTIsIC0xMDMuNTUsIDEuMF0sIFsxOC4xMywgLTEwMy4zNiwgMS4wXSwgWzE4LjI3LCAtMTAxLjQ5LCAxLjBdLCBbMTguMjcsIC0xMDAuMzIsIDEuMF0sIFsxOC40NiwgLTEwMS4xMiwgMS4wXSwgWzE4LjY5LCAtMTAyLjk4LCAxLjBdLCBbMTguODQsIC05OC44MywgMi4wXSwgWzE4LjksIC0xMDIuNjksIDEuMF0sIFsxOS4wNywgLTEwMi42MiwgMS4wXSwgWzE5LjE0LCAtMTAyLjc5LCAxLjBdLCBbMTkuMTksIC0xMDQuMDksIDEuMF0sIFsxOS4yNCwgLTEwMi42NywgMS4wXSwgWzE5LjI1LCAtOTcuNDMsIDEuMF0sIFsxOS4zNSwgLTEwNC4zMywgMS4wXSwgWzE5LjQ3LCAtMTA1LjMzLCAxLjBdLCBbMTkuNDcsIC0xMDMuMjgsIDEuMF0sIFsxOS42MywgLTEwNC43LCAxLjBdLCBbMTkuNzUsIC0xMDMuNTIsIDEuMF0sIFsyMS41LCAtMTA1LjgxLCAxLjBdLCBbMjkuOCwgLTExNC40MiwgMS4wXSwgWzMxLjY1LCAtMTE1LjA2LCAxLjBdLCBbMzEuNzksIC0xMTUuNTMsIDEuMF0sIFszMi4zOCwgLTExNS4yNSwgMS4wXV1dLAogICAgICAgICAgICAgICAge2hlYXRtYXBPcHRpb25zOiB7CiAgICAgICAgICAgICAgICAgICAgICAgIHJhZGl1czogNSwKICAgICAgICAgICAgICAgICAgICAgICAgbWluT3BhY2l0eTogMC41LAogICAgICAgICAgICAgICAgICAgICAgICBtYXhPcGFjaXR5OiAwLjgsCiAgICAgICAgICAgICAgICAgICAgICAgIHNjYWxlUmFkaXVzOiBmYWxzZSwKICAgICAgICAgICAgICAgICAgICAgICAgdXNlTG9jYWxFeHRyZW1hOiB0cnVlLAogICAgICAgICAgICAgICAgICAgICAgICBkZWZhdWx0V2VpZ2h0OiAxLAogICAgICAgICAgICAgICAgICAgICAgICBncmFkaWVudDogezAuMjogJ2JsdWUnLCAwLjQ6ICdsaW1lJywgMC42OiAnb3JhbmdlJywgMTogJ3JlZCd9CiAgICAgICAgICAgICAgICAgICAgfQogICAgICAgICAgICAgICAgfSkKICAgICAgICAgICAgICAgIC5hZGRUbyhtYXBfYWYzYTc0NDkyYTViNGM4MWE5OTBjZmJjZGJkZGQyNjIpOwoKICAgICAgICAKPC9zY3JpcHQ+ onload=\"this.contentDocument.open();this.contentDocument.write(atob(this.getAttribute('data-html')));this.contentDocument.close();\" allowfullscreen webkitallowfullscreen mozallowfullscreen></iframe></div></div>"
      ],
      "text/plain": [
       "<folium.folium.Map at 0x7f5c3e8e69d0>"
      ]
     },
     "execution_count": 11,
     "metadata": {},
     "output_type": "execute_result"
    }
   ],
   "source": [
    "mapa=generateBaseMap() # crea mapa\n",
    "\n",
    "HMWT(df_hour_list, \n",
    "     radius=5, \n",
    "     gradient={0.2: 'blue', 0.4: 'lime', 0.6: 'orange', 1: 'red'}, \n",
    "     min_opacity=0.5, \n",
    "     max_opacity=0.8, \n",
    "     use_local_extrema=True).add_to(mapa) # datos pata heatmap con tiempo\n",
    "\n",
    "\n",
    "mapa  # representa"
   ]
  },
  {
   "cell_type": "code",
   "execution_count": 12,
   "metadata": {},
   "outputs": [],
   "source": [
    "mapa.save('mapa.html') # guarda"
   ]
  },
  {
   "cell_type": "code",
   "execution_count": null,
   "metadata": {},
   "outputs": [],
   "source": []
  }
 ],
 "metadata": {
  "kernelspec": {
   "display_name": "Python 3",
   "language": "python",
   "name": "python3"
  },
  "language_info": {
   "codemirror_mode": {
    "name": "ipython",
    "version": 3
   },
   "file_extension": ".py",
   "mimetype": "text/x-python",
   "name": "python",
   "nbconvert_exporter": "python",
   "pygments_lexer": "ipython3",
   "version": "3.8.2"
  }
 },
 "nbformat": 4,
 "nbformat_minor": 4
}
